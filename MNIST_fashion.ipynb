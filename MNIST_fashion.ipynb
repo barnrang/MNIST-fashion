{
 "cells": [
  {
   "cell_type": "code",
   "execution_count": 1,
   "metadata": {},
   "outputs": [
    {
     "name": "stderr",
     "output_type": "stream",
     "text": [
      "Using TensorFlow backend.\n"
     ]
    }
   ],
   "source": [
    "from keras.datasets import fashion_mnist"
   ]
  },
  {
   "cell_type": "code",
   "execution_count": 2,
   "metadata": {
    "collapsed": true
   },
   "outputs": [],
   "source": [
    "from keras.utils import np_utils\n",
    "from keras import callbacks as cb\n",
    "from keras.optimizers import Adam"
   ]
  },
  {
   "cell_type": "code",
   "execution_count": 3,
   "metadata": {
    "collapsed": true
   },
   "outputs": [],
   "source": [
    "import numpy as np\n",
    "from PIL import Image\n",
    "import matplotlib.pyplot as plt\n",
    "import matplotlib.image as img\n",
    "%matplotlib inline"
   ]
  },
  {
   "cell_type": "code",
   "execution_count": 307,
   "metadata": {
    "collapsed": true
   },
   "outputs": [],
   "source": [
    "import helper.load_music as ld\n",
    "import pygame\n",
    "songs = ld.music_load(dir='Music_sample',length=8000)\n",
    "song_test = songs[0].reshape(-1,2)\n",
    "pygame.mixer.init(44100,-16,2)\n",
    "sound = pygame.sndarray.make_sound(song_test)"
   ]
  },
  {
   "cell_type": "code",
   "execution_count": 4,
   "metadata": {
    "collapsed": true
   },
   "outputs": [],
   "source": [
    "label_data = {0:'T-shirt/top'\n",
    ",1:'Trouser'\n",
    ",2:'Pullover'\n",
    ",3:'Dress'\n",
    ",4:'Coat'\n",
    ",5:'Sandal'\n",
    ",6:'Shirt'\n",
    ",7:'Sneaker'\n",
    ",8:'Bag'\n",
    ",9:'Ankle boot'}"
   ]
  },
  {
   "cell_type": "code",
   "execution_count": 177,
   "metadata": {},
   "outputs": [
    {
     "data": {
      "text/plain": [
       "((55000, 28, 28, 1),\n",
       " (55000,),\n",
       " (5000, 28, 28, 1),\n",
       " (5000,),\n",
       " (10000, 28, 28, 1),\n",
       " (10000,))"
      ]
     },
     "execution_count": 177,
     "metadata": {},
     "output_type": "execute_result"
    }
   ],
   "source": [
    "(x_train, y_train), (x_test, y_test) = fashion_mnist.load_data()\n",
    "x_train, x_test = np.expand_dims(x_train,3)/255., np.expand_dims(x_test,3)/255.\n",
    "x_val, y_val = x_train[-5000:], y_train[-5000:]\n",
    "x_train, y_train = x_train[:-5000], y_train[:-5000]\n",
    "x_train.shape, y_train.shape, x_val.shape, y_val.shape, x_test.shape, y_test.shape"
   ]
  },
  {
   "cell_type": "code",
   "execution_count": 178,
   "metadata": {},
   "outputs": [],
   "source": [
    "from keras.layers import *\n",
    "from keras.models import Sequential\n",
    "from keras import regularizers as rg\n",
    "from keras.preprocessing.image import ImageDataGenerator"
   ]
  },
  {
   "cell_type": "code",
   "execution_count": 286,
   "metadata": {
    "collapsed": true
   },
   "outputs": [],
   "source": [
    "'''\n",
    "Random Erase, from 28x28 size we will randomly\n",
    "25% of chance to be erased\n",
    "set 0 for 4x4 - 6x6 area\n",
    "Input: 3-d tensor WxHxC(1)\n",
    "'''\n",
    "imsize = 28\n",
    "def random_erase(x):\n",
    "    prob = np.random.rand(1)[0]\n",
    "    out = x.copy()\n",
    "    if prob > 0.75:\n",
    "        width, height = np.random.randint(4,6,2)\n",
    "        wst, hst = random.randint(0,imsize-width),random.randint(0,imsize-height)\n",
    "        out[wst:wst+width, hst:hst+height] = 0\n",
    "    return out"
   ]
  },
  {
   "cell_type": "code",
   "execution_count": 287,
   "metadata": {
    "collapsed": true
   },
   "outputs": [],
   "source": [
    "transform = ImageDataGenerator(\n",
    "    featurewise_center = True,\n",
    "    featurewise_std_normalization = True,\n",
    "    horizontal_flip = True,\n",
    "    preprocessing_function = random_erase\n",
    ")\n",
    "\n",
    "val_trans = ImageDataGenerator(\n",
    "    featurewise_center = True,\n",
    "    featurewise_std_normalization = True\n",
    ")"
   ]
  },
  {
   "cell_type": "code",
   "execution_count": 152,
   "metadata": {
    "scrolled": true
   },
   "outputs": [
    {
     "data": {
      "text/plain": [
       "<matplotlib.image.AxesImage at 0x1fa1de730b8>"
      ]
     },
     "execution_count": 152,
     "metadata": {},
     "output_type": "execute_result"
    },
    {
     "data": {
      "image/png": "[encoded data removed]",
      "text/plain": [
       "<matplotlib.figure.Figure at 0x1fa1e002160>"
      ]
     },
     "metadata": {},
     "output_type": "display_data"
    }
   ],
   "source": [
    "plt.imshow(random_erase(x_train[25][:,:,0]))"
   ]
  },
  {
   "cell_type": "code",
   "execution_count": 153,
   "metadata": {
    "collapsed": true
   },
   "outputs": [],
   "source": [
    "def show_image(im_data, label, sam_num):\n",
    "    plt.title(label_data[label[sam_num]])\n",
    "    plt.imshow(im_data[sam_num,:,:,0])"
   ]
  },
  {
   "cell_type": "code",
   "execution_count": 154,
   "metadata": {},
   "outputs": [
    {
     "data": {
      "image/png": "[encoded data removed]",
      "text/plain": [
       "<matplotlib.figure.Figure at 0x1fa1def2f28>"
      ]
     },
     "metadata": {},
     "output_type": "display_data"
    }
   ],
   "source": [
    "show_image(x_train, y_train, 251)"
   ]
  },
  {
   "cell_type": "code",
   "execution_count": 300,
   "metadata": {
    "collapsed": true
   },
   "outputs": [],
   "source": [
    "feature_layers = [\n",
    "    Conv2D(32,(2,2),padding='valid',activation='relu',input_shape=(28,28,1)),\n",
    "    BatchNormalization(),\n",
    "    MaxPooling2D(),\n",
    "    Conv2D(128,(2,2),padding='valid',activation='relu'),\n",
    "    BatchNormalization(),\n",
    "    MaxPooling2D(),\n",
    "    Flatten()\n",
    "]\n",
    "\n",
    "classify_layer = [\n",
    "    Dense(128,activation='relu'),\n",
    "    BatchNormalization(),\n",
    "    Dropout(0.5),\n",
    "    Dense(64,activation='relu'),\n",
    "    BatchNormalization(),\n",
    "    Dropout(0.25),\n",
    "    Dense(10,activation='softmax')\n",
    "]\n",
    "\n",
    "model = Sequential(feature_layers + classify_layer)"
   ]
  },
  {
   "cell_type": "code",
   "execution_count": 301,
   "metadata": {
    "collapsed": true
   },
   "outputs": [],
   "source": [
    "adam = Adam()\n",
    "model.compile(optimizer=adam,\n",
    "              loss='categorical_crossentropy',\n",
    "              metrics=['accuracy'])"
   ]
  },
  {
   "cell_type": "code",
   "execution_count": 302,
   "metadata": {
    "scrolled": true
   },
   "outputs": [
    {
     "name": "stdout",
     "output_type": "stream",
     "text": [
      "_________________________________________________________________\n",
      "Layer (type)                 Output Shape              Param #   \n",
      "=================================================================\n",
      "conv2d_57 (Conv2D)           (None, 27, 27, 32)        160       \n",
      "_________________________________________________________________\n",
      "batch_normalization_105 (Bat (None, 27, 27, 32)        128       \n",
      "_________________________________________________________________\n",
      "max_pooling2d_49 (MaxPooling (None, 13, 13, 32)        0         \n",
      "_________________________________________________________________\n",
      "conv2d_58 (Conv2D)           (None, 12, 12, 128)       16512     \n",
      "_________________________________________________________________\n",
      "batch_normalization_106 (Bat (None, 12, 12, 128)       512       \n",
      "_________________________________________________________________\n",
      "max_pooling2d_50 (MaxPooling (None, 6, 6, 128)         0         \n",
      "_________________________________________________________________\n",
      "flatten_25 (Flatten)         (None, 4608)              0         \n",
      "_________________________________________________________________\n",
      "dense_73 (Dense)             (None, 128)               589952    \n",
      "_________________________________________________________________\n",
      "batch_normalization_107 (Bat (None, 128)               512       \n",
      "_________________________________________________________________\n",
      "dropout_49 (Dropout)         (None, 128)               0         \n",
      "_________________________________________________________________\n",
      "dense_74 (Dense)             (None, 64)                8256      \n",
      "_________________________________________________________________\n",
      "batch_normalization_108 (Bat (None, 64)                256       \n",
      "_________________________________________________________________\n",
      "dropout_50 (Dropout)         (None, 64)                0         \n",
      "_________________________________________________________________\n",
      "dense_75 (Dense)             (None, 10)                650       \n",
      "=================================================================\n",
      "Total params: 616,938\n",
      "Trainable params: 616,234\n",
      "Non-trainable params: 704\n",
      "_________________________________________________________________\n"
     ]
    }
   ],
   "source": [
    "model.summary()"
   ]
  },
  {
   "cell_type": "code",
   "execution_count": 303,
   "metadata": {
    "collapsed": true
   },
   "outputs": [],
   "source": [
    "reduce_lr = cb.ReduceLROnPlateau(factor=0.4,patience=2)\n",
    "save_model = cb.ModelCheckpoint('model/fashion2', monitor='val_loss',save_best_only=True)\n",
    "#early_break = cb.EarlyStopping(patience=3)"
   ]
  },
  {
   "cell_type": "code",
   "execution_count": 304,
   "metadata": {},
   "outputs": [],
   "source": [
    "transform.fit(x_train)\n",
    "val_trans.fit(x_train)"
   ]
  },
  {
   "cell_type": "code",
   "execution_count": 305,
   "metadata": {},
   "outputs": [
    {
     "name": "stdout",
     "output_type": "stream",
     "text": [
      "Epoch 1/50\n",
      "550/550 [==============================] - 25s 46ms/step - loss: 0.5624 - acc: 0.8104 - val_loss: 0.3636 - val_acc: 0.8726\n",
      "Epoch 2/50\n",
      "550/550 [==============================] - 20s 37ms/step - loss: 0.3677 - acc: 0.8721 - val_loss: 0.2709 - val_acc: 0.9012\n",
      "Epoch 3/50\n",
      "550/550 [==============================] - 20s 36ms/step - loss: 0.3195 - acc: 0.8869 - val_loss: 0.2706 - val_acc: 0.9000\n",
      "Epoch 4/50\n",
      "550/550 [==============================] - 20s 36ms/step - loss: 0.2956 - acc: 0.8947 - val_loss: 0.2455 - val_acc: 0.9074\n",
      "Epoch 5/50\n",
      "550/550 [==============================] - 20s 36ms/step - loss: 0.2770 - acc: 0.9030 - val_loss: 0.2660 - val_acc: 0.9054\n",
      "Epoch 6/50\n",
      "550/550 [==============================] - 20s 36ms/step - loss: 0.2598 - acc: 0.9097 - val_loss: 0.3051 - val_acc: 0.8916\n",
      "Epoch 7/50\n",
      "550/550 [==============================] - 21s 38ms/step - loss: 0.2479 - acc: 0.9130 - val_loss: 0.2500 - val_acc: 0.9096\n",
      "Epoch 8/50\n",
      "550/550 [==============================] - 20s 36ms/step - loss: 0.2164 - acc: 0.9233 - val_loss: 0.2108 - val_acc: 0.9262\n",
      "Epoch 9/50\n",
      "550/550 [==============================] - 20s 36ms/step - loss: 0.2021 - acc: 0.9286 - val_loss: 0.2199 - val_acc: 0.9246\n",
      "Epoch 10/50\n",
      "550/550 [==============================] - 20s 36ms/step - loss: 0.1977 - acc: 0.9308 - val_loss: 0.2179 - val_acc: 0.9232\n",
      "Epoch 11/50\n",
      "550/550 [==============================] - 20s 37ms/step - loss: 0.1894 - acc: 0.9334 - val_loss: 0.2093 - val_acc: 0.9224\n",
      "Epoch 12/50\n",
      "550/550 [==============================] - 21s 39ms/step - loss: 0.1836 - acc: 0.9345 - val_loss: 0.1940 - val_acc: 0.9310\n",
      "Epoch 13/50\n",
      "550/550 [==============================] - 20s 37ms/step - loss: 0.1784 - acc: 0.9367 - val_loss: 0.2220 - val_acc: 0.9216\n",
      "Epoch 14/50\n",
      "550/550 [==============================] - 20s 37ms/step - loss: 0.1735 - acc: 0.9387 - val_loss: 0.2106 - val_acc: 0.9280\n",
      "Epoch 15/50\n",
      "550/550 [==============================] - 20s 37ms/step - loss: 0.1707 - acc: 0.9400 - val_loss: 0.1924 - val_acc: 0.9314\n",
      "Epoch 16/50\n",
      "550/550 [==============================] - 20s 36ms/step - loss: 0.1623 - acc: 0.9426 - val_loss: 0.2213 - val_acc: 0.9238\n",
      "Epoch 17/50\n",
      "550/550 [==============================] - 20s 36ms/step - loss: 0.1600 - acc: 0.9425 - val_loss: 0.1980 - val_acc: 0.9298\n",
      "Epoch 18/50\n",
      "550/550 [==============================] - 20s 36ms/step - loss: 0.1574 - acc: 0.9442 - val_loss: 0.1950 - val_acc: 0.9294\n",
      "Epoch 19/50\n",
      "550/550 [==============================] - 20s 36ms/step - loss: 0.1426 - acc: 0.9507 - val_loss: 0.1932 - val_acc: 0.9314\n",
      "Epoch 20/50\n",
      "550/550 [==============================] - 20s 36ms/step - loss: 0.1352 - acc: 0.9521 - val_loss: 0.2039 - val_acc: 0.9312\n",
      "Epoch 21/50\n",
      "550/550 [==============================] - 20s 36ms/step - loss: 0.1280 - acc: 0.9557 - val_loss: 0.1936 - val_acc: 0.9336\n",
      "Epoch 22/50\n",
      "550/550 [==============================] - 20s 36ms/step - loss: 0.1245 - acc: 0.9562 - val_loss: 0.1951 - val_acc: 0.9308\n",
      "Epoch 23/50\n",
      "550/550 [==============================] - 20s 37ms/step - loss: 0.1222 - acc: 0.9571 - val_loss: 0.1918 - val_acc: 0.9316\n",
      "Epoch 24/50\n",
      "550/550 [==============================] - 20s 36ms/step - loss: 0.1201 - acc: 0.9577 - val_loss: 0.1924 - val_acc: 0.9332\n",
      "Epoch 25/50\n",
      "550/550 [==============================] - 20s 36ms/step - loss: 0.1217 - acc: 0.9578 - val_loss: 0.1933 - val_acc: 0.9338\n",
      "Epoch 26/50\n",
      "550/550 [==============================] - 20s 36ms/step - loss: 0.1197 - acc: 0.9581 - val_loss: 0.1925 - val_acc: 0.9340\n",
      "Epoch 27/50\n",
      "550/550 [==============================] - 20s 36ms/step - loss: 0.1188 - acc: 0.9590 - val_loss: 0.1918 - val_acc: 0.9344\n",
      "Epoch 28/50\n",
      "550/550 [==============================] - 20s 36ms/step - loss: 0.1173 - acc: 0.9594 - val_loss: 0.1915 - val_acc: 0.9336\n",
      "Epoch 29/50\n",
      "550/550 [==============================] - 20s 36ms/step - loss: 0.1182 - acc: 0.9581 - val_loss: 0.1920 - val_acc: 0.9338\n",
      "Epoch 30/50\n",
      "550/550 [==============================] - 20s 36ms/step - loss: 0.1174 - acc: 0.9591 - val_loss: 0.1915 - val_acc: 0.9344\n",
      "Epoch 31/50\n",
      "550/550 [==============================] - 20s 36ms/step - loss: 0.1169 - acc: 0.9594 - val_loss: 0.1918 - val_acc: 0.9346\n",
      "Epoch 32/50\n",
      "550/550 [==============================] - 20s 36ms/step - loss: 0.1179 - acc: 0.9584 - val_loss: 0.1920 - val_acc: 0.9338\n",
      "Epoch 33/50\n",
      "550/550 [==============================] - 20s 36ms/step - loss: 0.1155 - acc: 0.9597 - val_loss: 0.1920 - val_acc: 0.9340\n",
      "Epoch 34/50\n",
      "550/550 [==============================] - 20s 36ms/step - loss: 0.1162 - acc: 0.9599 - val_loss: 0.1922 - val_acc: 0.9340\n",
      "Epoch 35/50\n",
      "550/550 [==============================] - 20s 36ms/step - loss: 0.1154 - acc: 0.9593 - val_loss: 0.1921 - val_acc: 0.9342\n",
      "Epoch 36/50\n",
      "550/550 [==============================] - 20s 36ms/step - loss: 0.1165 - acc: 0.9588 - val_loss: 0.1922 - val_acc: 0.9348\n",
      "Epoch 37/50\n",
      "550/550 [==============================] - 20s 37ms/step - loss: 0.1155 - acc: 0.9592 - val_loss: 0.1920 - val_acc: 0.9344\n",
      "Epoch 38/50\n",
      "550/550 [==============================] - 21s 38ms/step - loss: 0.1146 - acc: 0.9604 - val_loss: 0.1921 - val_acc: 0.9342\n",
      "Epoch 39/50\n",
      "550/550 [==============================] - 22s 40ms/step - loss: 0.1158 - acc: 0.9597 - val_loss: 0.1921 - val_acc: 0.9342\n",
      "Epoch 40/50\n",
      "550/550 [==============================] - 22s 39ms/step - loss: 0.1150 - acc: 0.9604 - val_loss: 0.1921 - val_acc: 0.9346\n",
      "Epoch 41/50\n",
      "550/550 [==============================] - 20s 37ms/step - loss: 0.1163 - acc: 0.9593 - val_loss: 0.1917 - val_acc: 0.9346\n",
      "Epoch 42/50\n",
      "550/550 [==============================] - 20s 37ms/step - loss: 0.1142 - acc: 0.9600 - val_loss: 0.1916 - val_acc: 0.9342\n",
      "Epoch 43/50\n",
      "550/550 [==============================] - 20s 36ms/step - loss: 0.1157 - acc: 0.9593 - val_loss: 0.1918 - val_acc: 0.9344\n",
      "Epoch 44/50\n",
      "550/550 [==============================] - 20s 36ms/step - loss: 0.1145 - acc: 0.9608 - val_loss: 0.1918 - val_acc: 0.9346\n",
      "Epoch 45/50\n",
      "550/550 [==============================] - 20s 36ms/step - loss: 0.1158 - acc: 0.9591 - val_loss: 0.1916 - val_acc: 0.9342\n",
      "Epoch 46/50\n",
      "550/550 [==============================] - 20s 36ms/step - loss: 0.1170 - acc: 0.9593 - val_loss: 0.1921 - val_acc: 0.9340\n",
      "Epoch 47/50\n",
      "550/550 [==============================] - 20s 36ms/step - loss: 0.1169 - acc: 0.9591 - val_loss: 0.1919 - val_acc: 0.9344\n",
      "Epoch 48/50\n",
      "550/550 [==============================] - 20s 36ms/step - loss: 0.1155 - acc: 0.9600 - val_loss: 0.1922 - val_acc: 0.9346\n",
      "Epoch 49/50\n",
      "550/550 [==============================] - 20s 36ms/step - loss: 0.1142 - acc: 0.9602 - val_loss: 0.1920 - val_acc: 0.9344\n",
      "Epoch 50/50\n",
      "550/550 [==============================] - 20s 36ms/step - loss: 0.1172 - acc: 0.9586 - val_loss: 0.1917 - val_acc: 0.9346\n"
     ]
    }
   ],
   "source": [
    "onehot = np_utils.to_categorical\n",
    "#train = model.fit(x_train, onehot(y_train), epochs=50, batch_size=100, validation_data=(x_val, onehot(y_val))\n",
    "train = model.fit_generator(transform.flow(x_train, onehot(y_train), batch_size=100),epochs=50,\n",
    "                            validation_data=val_trans.flow(x_val, onehot(y_val)),callbacks=[reduce_lr,save_model])\n",
    "sound.play()"
   ]
  },
  {
   "cell_type": "code",
   "execution_count": 309,
   "metadata": {
    "collapsed": true
   },
   "outputs": [],
   "source": [
    "sound.stop()"
   ]
  },
  {
   "cell_type": "code",
   "execution_count": 310,
   "metadata": {},
   "outputs": [
    {
     "data": {
      "text/plain": [
       "[0.21935722540616989, 0.92930000000000001]"
      ]
     },
     "execution_count": 310,
     "metadata": {},
     "output_type": "execute_result"
    }
   ],
   "source": [
    "model.evaluate_generator(val_trans.flow(x_test, onehot(y_test)))"
   ]
  }
 ],
 "metadata": {
  "kernelspec": {
   "display_name": "Python [conda env:chatbot]",
   "language": "python",
   "name": "conda-env-chatbot-py"
  },
  "language_info": {
   "codemirror_mode": {
    "name": "ipython",
    "version": 3
   },
   "file_extension": ".py",
   "mimetype": "text/x-python",
   "name": "python",
   "nbconvert_exporter": "python",
   "pygments_lexer": "ipython3",
   "version": "3.5.3"
  }
 },
 "nbformat": 4,
 "nbformat_minor": 2
}
