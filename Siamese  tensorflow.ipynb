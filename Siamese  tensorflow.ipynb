{
 "cells": [
  {
   "cell_type": "markdown",
   "metadata": {},
   "source": [
    "# 参考\n",
    "http://www.cs.cmu.edu/~rsalakhu/papers/oneshot1.pdf"
   ]
  },
  {
   "cell_type": "code",
   "execution_count": 1,
   "metadata": {
    "scrolled": true
   },
   "outputs": [],
   "source": [
    "import numpy as np\n",
    "from PIL import Image\n",
    "import matplotlib.pyplot as plt\n",
    "import matplotlib.image as img\n",
    "%matplotlib inline\n",
    "%load_ext autoreload\n",
    "%autoreload 2"
   ]
  },
  {
   "cell_type": "code",
   "execution_count": 2,
   "metadata": {
    "collapsed": true
   },
   "outputs": [],
   "source": [
    "import helper.load_batch as lb\n",
    "import helper.load_music as ld\n",
    "import pygame\n",
    "songs = ld.music_load(dir='Music_sample',length=8000)\n",
    "song_test = songs[0].reshape(-1,2)\n",
    "pygame.mixer.init(44100,-16,2)\n",
    "sound = pygame.sndarray.make_sound(song_test)"
   ]
  },
  {
   "cell_type": "code",
   "execution_count": 3,
   "metadata": {},
   "outputs": [
    {
     "name": "stderr",
     "output_type": "stream",
     "text": [
      "Using TensorFlow backend.\n"
     ]
    }
   ],
   "source": [
    "import tensorflow as tf\n",
    "from keras.datasets import fashion_mnist"
   ]
  },
  {
   "cell_type": "code",
   "execution_count": 4,
   "metadata": {
    "collapsed": true
   },
   "outputs": [],
   "source": [
    "(X_train, y_train), (X_test, y_test) = fashion_mnist.load_data()\n",
    "X_train, X_test = [np.reshape(_,(-1,28,28,1))/255. for _ in [X_train, X_test]]\n",
    "X_val, y_val = X_train[-5000:], y_train[-5000:]\n",
    "X_train, y_train = X_train[:-5000], y_train[:-5000]"
   ]
  },
  {
   "cell_type": "code",
   "execution_count": 24,
   "metadata": {},
   "outputs": [],
   "source": [
    "data_dict = {\n",
    "    'X_train':X_train,\n",
    "    'X_val':X_val,\n",
    "    'X_test':X_test,\n",
    "    'y_train':y_train,\n",
    "    'y_val':y_val,\n",
    "    'y_test':y_test,\n",
    "    'num_class':10\n",
    "}"
   ]
  },
  {
   "cell_type": "code",
   "execution_count": 5,
   "metadata": {
    "collapsed": true
   },
   "outputs": [],
   "source": [
    "Winit = tf.random_normal_initializer(mean=0,stddev=0.01)\n",
    "binit = tf.random_normal_initializer(mean=0.5,stddev=0.01)\n",
    "Denseinit = tf.random_normal_initializer(mean=0,stddev=0.2)"
   ]
  },
  {
   "cell_type": "code",
   "execution_count": 11,
   "metadata": {
    "collapsed": true
   },
   "outputs": [],
   "source": [
    "def model(X, reg_pow=0.001):\n",
    "    reg = tf.contrib.layers.l2_regularizer(scale=reg_pow)\n",
    "    con = tf.constant_initializer\n",
    "    with tf.variable_scope('conv1'):\n",
    "        X = tf.layers.conv2d(X,32,kernel_size=[2,2],strides=[1,1],activation=tf.nn.relu\n",
    "                     ,kernel_initializer=Winit,bias_initializer=binit,kernel_regularizer=reg)\n",
    "    #X = tf.layers.batch_normalization(X, axis=-1, training=is_training)\n",
    "        X = tf.layers.max_pooling2d(X,[2,2],2)\n",
    "    with tf.variable_scope('conv2'):\n",
    "        X = tf.layers.conv2d(X,128,kernel_size=[2,2],strides=[1,1],activation=tf.nn.relu\n",
    "                        ,kernel_initializer=Winit,bias_initializer=binit,kernel_regularizer=reg)\n",
    "        X = tf.layers.max_pooling2d(X,[2,2],2)\n",
    "        X = tf.contrib.layers.flatten(X)\n",
    "    with tf.variable_scope('full1'):\n",
    "        X = tf.layers.dense(X,512,kernel_initializer=Denseinit,kernel_regularizer=reg,activation=tf.sigmoid)\n",
    "        return X"
   ]
  },
  {
   "cell_type": "code",
   "execution_count": 12,
   "metadata": {
    "collapsed": true
   },
   "outputs": [],
   "source": [
    "def combine_predict(X1,X2):\n",
    "    '''\n",
    "    Input\n",
    "    X1,X2: (N,M)\n",
    "    y: (N,) of 1,0 value\n",
    "    Return\n",
    "    loss by distance\n",
    "    '''\n",
    "    dim = X1.get_shape()[1]\n",
    "    alpha = tf.get_variable(dtype=tf.float32,shape=[dim],name='last_dense')\n",
    "    diff = tf.abs(X1-X2)\n",
    "    out = tf.layers.dense(diff * alpha,1,kernel_initializer=Denseinit)\n",
    "    return out\n",
    "    "
   ]
  },
  {
   "cell_type": "code",
   "execution_count": 28,
   "metadata": {},
   "outputs": [],
   "source": [
    "tf.reset_default_graph()\n",
    "X1 = tf.placeholder(tf.float32,[None,28,28,1])\n",
    "X2 = tf.placeholder(tf.float32,[None,28,28,1])\n",
    "y = tf.placeholder(tf.int32,[None,1])\n",
    "is_training = tf.placeholder(tf.bool)\n",
    "\n",
    "with tf.variable_scope('bottleneck') as scope:\n",
    "    Y1 = model(X1)\n",
    "    scope.reuse_variables()\n",
    "    Y2 = model(X2)\n",
    "p = combine_predict(Y1,Y2)\n",
    "reg_losses = tf.get_collection(tf.GraphKeys.REGULARIZATION_LOSSES)\n",
    "loss = tf.reduce_mean(tf.nn.sigmoid_cross_entropy_with_logits(labels=tf.cast(y,tf.float32),logits=p)) \\\n",
    "    + tf.reduce_sum(reg_losses)\n",
    "optimizer = tf.train.AdamOptimizer()\n",
    "train_step = optimizer.minimize(loss)\n",
    "\n",
    "\n",
    "predict = tf.cast(tf.greater(p,0.), dtype=tf.int32)\n",
    "correct_pred = tf.equal(predict, y)\n",
    "accuracy = tf.reduce_mean(tf.cast(correct_pred,tf.float32))"
   ]
  },
  {
   "cell_type": "code",
   "execution_count": 29,
   "metadata": {},
   "outputs": [],
   "source": [
    "data = lb.BatchLoader(**data_dict)"
   ]
  },
  {
   "cell_type": "code",
   "execution_count": 26,
   "metadata": {},
   "outputs": [
    {
     "data": {
      "text/plain": [
       "((8, 28, 28, 1), (8, 1))"
      ]
     },
     "execution_count": 26,
     "metadata": {},
     "output_type": "execute_result"
    }
   ],
   "source": [
    "t1,t2,yt = data.make_batch(4)\n",
    "t1.shape, yt.shape"
   ]
  },
  {
   "cell_type": "code",
   "execution_count": 30,
   "metadata": {},
   "outputs": [],
   "source": [
    "sess = tf.Session()\n",
    "sess.run(tf.global_variables_initializer())"
   ]
  },
  {
   "cell_type": "code",
   "execution_count": 32,
   "metadata": {},
   "outputs": [
    {
     "name": "stdout",
     "output_type": "stream",
     "text": [
      "train loss is 47.51131057739258 and accuracy is 0.5649999380111694\n",
      "val loss is 47.13873291015625 and accuracy is 0.5689999461174011\n",
      "train loss is 47.13869857788086 and accuracy is 0.5950000286102295\n",
      "val loss is 46.768489837646484 and accuracy is 0.5839999914169312\n",
      "train loss is 46.768463134765625 and accuracy is 0.5850000381469727\n",
      "val loss is 46.40055847167969 and accuracy is 0.6119999885559082\n",
      "train loss is 46.40044403076172 and accuracy is 0.6599999666213989\n",
      "val loss is 46.03506088256836 and accuracy is 0.6459999680519104\n",
      "train loss is 46.03520202636719 and accuracy is 0.6100000143051147\n",
      "val loss is 45.67207336425781 and accuracy is 0.6309999823570251\n",
      "train loss is 45.672061920166016 and accuracy is 0.6599999666213989\n",
      "val loss is 45.311370849609375 and accuracy is 0.6100000143051147\n",
      "train loss is 45.311363220214844 and accuracy is 0.6150000691413879\n",
      "val loss is 44.953392028808594 and accuracy is 0.6109999418258667\n",
      "train loss is 44.9532470703125 and accuracy is 0.6100000143051147\n",
      "val loss is 44.597694396972656 and accuracy is 0.578000009059906\n",
      "train loss is 44.59807586669922 and accuracy is 0.6000000238418579\n",
      "val loss is 44.24457550048828 and accuracy is 0.5530000329017639\n",
      "train loss is 44.2440071105957 and accuracy is 0.5949999690055847\n",
      "val loss is 43.89332962036133 and accuracy is 0.5440000295639038\n",
      "train loss is 43.89337158203125 and accuracy is 0.5600000023841858\n",
      "val loss is 43.54537582397461 and accuracy is 0.5349999666213989\n",
      "train loss is 43.54522705078125 and accuracy is 0.5399999618530273\n",
      "val loss is 43.19879913330078 and accuracy is 0.5329999923706055\n",
      "train loss is 43.199867248535156 and accuracy is 0.5299999713897705\n",
      "val loss is 42.85652160644531 and accuracy is 0.5160000324249268\n",
      "train loss is 42.85857009887695 and accuracy is 0.5299999713897705\n",
      "val loss is 42.515323638916016 and accuracy is 0.5109999775886536\n",
      "train loss is 42.5161247253418 and accuracy is 0.5099999904632568\n",
      "val loss is 42.177650451660156 and accuracy is 0.5060000419616699\n",
      "train loss is 42.178314208984375 and accuracy is 0.5049999952316284\n",
      "val loss is 41.84255599975586 and accuracy is 0.5059999823570251\n",
      "train loss is 41.843467712402344 and accuracy is 0.5049999952316284\n",
      "val loss is 41.50804138183594 and accuracy is 0.5089999437332153\n",
      "train loss is 41.506832122802734 and accuracy is 0.5049999952316284\n",
      "val loss is 41.179603576660156 and accuracy is 0.5049999952316284\n",
      "train loss is 41.17853546142578 and accuracy is 0.5\n",
      "val loss is 40.850467681884766 and accuracy is 0.503000020980835\n",
      "train loss is 40.847190856933594 and accuracy is 0.5\n",
      "val loss is 40.52386474609375 and accuracy is 0.5040000081062317\n",
      "train loss is 40.52395248413086 and accuracy is 0.5\n",
      "val loss is 40.2003173828125 and accuracy is 0.5010000467300415\n",
      "train loss is 40.19889831542969 and accuracy is 0.5\n",
      "val loss is 39.88014221191406 and accuracy is 0.5010000467300415\n",
      "train loss is 39.879478454589844 and accuracy is 0.5\n",
      "val loss is 39.56364059448242 and accuracy is 0.5000000596046448\n",
      "train loss is 39.56055450439453 and accuracy is 0.5\n",
      "val loss is 39.2479248046875 and accuracy is 0.5000000596046448\n",
      "train loss is 39.25410079956055 and accuracy is 0.5\n",
      "val loss is 38.93227005004883 and accuracy is 0.5000000596046448\n",
      "train loss is 38.936614990234375 and accuracy is 0.5\n",
      "val loss is 38.62265396118164 and accuracy is 0.5000000596046448\n",
      "train loss is 38.623634338378906 and accuracy is 0.5\n",
      "val loss is 38.31492233276367 and accuracy is 0.5000000596046448\n",
      "train loss is 38.31745529174805 and accuracy is 0.5\n",
      "val loss is 38.01439666748047 and accuracy is 0.5000000596046448\n",
      "train loss is 38.0091552734375 and accuracy is 0.5\n",
      "val loss is 37.70832824707031 and accuracy is 0.5000000596046448\n",
      "train loss is 37.71058654785156 and accuracy is 0.4999999701976776\n",
      "val loss is 37.40846252441406 and accuracy is 0.5000000596046448\n",
      "train loss is 37.4034538269043 and accuracy is 0.5\n",
      "val loss is 37.106407165527344 and accuracy is 0.5000000596046448\n",
      "train loss is 37.115875244140625 and accuracy is 0.5\n",
      "val loss is 36.81867218017578 and accuracy is 0.5000000596046448\n",
      "train loss is 36.81529235839844 and accuracy is 0.5\n",
      "val loss is 36.52373123168945 and accuracy is 0.5000000596046448\n",
      "train loss is 36.53038024902344 and accuracy is 0.5\n",
      "val loss is 36.23734664916992 and accuracy is 0.5010000467300415\n",
      "train loss is 36.23888397216797 and accuracy is 0.5\n",
      "val loss is 35.95042419433594 and accuracy is 0.5000000596046448\n",
      "train loss is 35.95026779174805 and accuracy is 0.5\n",
      "val loss is 35.66349792480469 and accuracy is 0.5020000338554382\n",
      "train loss is 35.65518569946289 and accuracy is 0.4999999701976776\n",
      "val loss is 35.37505340576172 and accuracy is 0.5010000467300415\n",
      "train loss is 35.3775520324707 and accuracy is 0.5\n",
      "val loss is 35.09852981567383 and accuracy is 0.503000020980835\n",
      "train loss is 35.086917877197266 and accuracy is 0.5\n",
      "val loss is 34.8171272277832 and accuracy is 0.5010000467300415\n",
      "train loss is 34.80489730834961 and accuracy is 0.5\n",
      "val loss is 34.54753494262695 and accuracy is 0.5010000467300415\n",
      "train loss is 34.55603790283203 and accuracy is 0.5\n",
      "val loss is 34.27104187011719 and accuracy is 0.503000020980835\n",
      "train loss is 34.27891540527344 and accuracy is 0.5\n",
      "val loss is 34.00242614746094 and accuracy is 0.5010000467300415\n",
      "train loss is 34.00530242919922 and accuracy is 0.5\n",
      "val loss is 33.737396240234375 and accuracy is 0.503000020980835\n",
      "train loss is 33.74052810668945 and accuracy is 0.5\n",
      "val loss is 33.468387603759766 and accuracy is 0.5040000081062317\n",
      "train loss is 33.45780563354492 and accuracy is 0.5049999952316284\n",
      "val loss is 33.204437255859375 and accuracy is 0.5119999647140503\n",
      "train loss is 33.20978927612305 and accuracy is 0.5049999952316284\n",
      "val loss is 32.93772506713867 and accuracy is 0.5080000162124634\n",
      "train loss is 32.95477294921875 and accuracy is 0.5049999952316284\n",
      "val loss is 32.68545913696289 and accuracy is 0.5149999856948853\n",
      "train loss is 32.67484664916992 and accuracy is 0.5099999904632568\n",
      "val loss is 32.423221588134766 and accuracy is 0.5289999842643738\n",
      "train loss is 32.40761947631836 and accuracy is 0.5\n",
      "val loss is 32.167930603027344 and accuracy is 0.527999997138977\n",
      "train loss is 32.16933059692383 and accuracy is 0.5149999856948853\n",
      "val loss is 31.916379928588867 and accuracy is 0.5360000133514404\n",
      "train loss is 31.919946670532227 and accuracy is 0.5399999618530273\n",
      "val loss is 31.660245895385742 and accuracy is 0.5400000214576721\n",
      "train loss is 31.660337448120117 and accuracy is 0.5699999928474426\n",
      "val loss is 31.4227237701416 and accuracy is 0.5530000329017639\n",
      "train loss is 31.415708541870117 and accuracy is 0.5600000023841858\n",
      "val loss is 31.170616149902344 and accuracy is 0.5659999847412109\n",
      "train loss is 31.178647994995117 and accuracy is 0.550000011920929\n",
      "val loss is 30.946142196655273 and accuracy is 0.5630000233650208\n",
      "train loss is 30.936038970947266 and accuracy is 0.5899999737739563\n",
      "val loss is 30.695205688476562 and accuracy is 0.5920000076293945\n",
      "train loss is 30.672399520874023 and accuracy is 0.6549999713897705\n",
      "val loss is 30.44745445251465 and accuracy is 0.60999995470047\n",
      "train loss is 30.445253372192383 and accuracy is 0.6050000190734863\n",
      "val loss is 30.218265533447266 and accuracy is 0.6240000128746033\n",
      "train loss is 30.196760177612305 and accuracy is 0.6749999523162842\n",
      "val loss is 29.983272552490234 and accuracy is 0.6430000066757202\n",
      "train loss is 29.967697143554688 and accuracy is 0.6649999618530273\n",
      "val loss is 29.750333786010742 and accuracy is 0.6570000648498535\n",
      "train loss is 29.73090934753418 and accuracy is 0.690000057220459\n",
      "val loss is 29.506017684936523 and accuracy is 0.6719999313354492\n",
      "train loss is 29.50420570373535 and accuracy is 0.6299999952316284\n",
      "val loss is 29.273983001708984 and accuracy is 0.6949999928474426\n",
      "train loss is 29.28150177001953 and accuracy is 0.6949999928474426\n",
      "val loss is 29.0638370513916 and accuracy is 0.6779999732971191\n",
      "train loss is 29.06184196472168 and accuracy is 0.6449999213218689\n",
      "val loss is 28.819917678833008 and accuracy is 0.7009999752044678\n",
      "train loss is 28.815357208251953 and accuracy is 0.7199999690055847\n",
      "val loss is 28.595829010009766 and accuracy is 0.6949999332427979\n",
      "train loss is 28.5963134765625 and accuracy is 0.7150000333786011\n",
      "val loss is 28.37847137451172 and accuracy is 0.7190000414848328\n",
      "train loss is 28.368654251098633 and accuracy is 0.7250000238418579\n"
     ]
    },
    {
     "name": "stdout",
     "output_type": "stream",
     "text": [
      "val loss is 28.157976150512695 and accuracy is 0.7459999918937683\n",
      "train loss is 28.159576416015625 and accuracy is 0.7150000333786011\n",
      "val loss is 27.94144058227539 and accuracy is 0.7400000095367432\n",
      "train loss is 27.912500381469727 and accuracy is 0.7599999904632568\n",
      "val loss is 27.728515625 and accuracy is 0.7450000643730164\n",
      "train loss is 27.701749801635742 and accuracy is 0.7800000905990601\n",
      "val loss is 27.500551223754883 and accuracy is 0.7630000710487366\n",
      "train loss is 27.47466278076172 and accuracy is 0.800000011920929\n",
      "val loss is 27.32075309753418 and accuracy is 0.7079999446868896\n",
      "train loss is 27.29220199584961 and accuracy is 0.7450000047683716\n",
      "val loss is 27.086864471435547 and accuracy is 0.7590000033378601\n",
      "train loss is 27.092798233032227 and accuracy is 0.7300000190734863\n",
      "val loss is 26.872068405151367 and accuracy is 0.7599999904632568\n",
      "train loss is 26.869232177734375 and accuracy is 0.7699999809265137\n",
      "val loss is 26.667110443115234 and accuracy is 0.7899999618530273\n",
      "train loss is 26.677980422973633 and accuracy is 0.7299999594688416\n",
      "val loss is 26.460269927978516 and accuracy is 0.7679999470710754\n",
      "train loss is 26.47962760925293 and accuracy is 0.7549999952316284\n",
      "val loss is 26.269880294799805 and accuracy is 0.7579999566078186\n",
      "train loss is 26.239192962646484 and accuracy is 0.8149999976158142\n",
      "val loss is 26.05130386352539 and accuracy is 0.7829999923706055\n",
      "train loss is 26.08656120300293 and accuracy is 0.7400000095367432\n",
      "val loss is 25.848737716674805 and accuracy is 0.7899999618530273\n",
      "train loss is 25.844804763793945 and accuracy is 0.7599999904632568\n",
      "val loss is 25.66579818725586 and accuracy is 0.7470000386238098\n",
      "train loss is 25.661348342895508 and accuracy is 0.7649999856948853\n",
      "val loss is 25.470144271850586 and accuracy is 0.7599999904632568\n",
      "train loss is 25.456993103027344 and accuracy is 0.7649999856948853\n",
      "val loss is 25.25261878967285 and accuracy is 0.7879999876022339\n",
      "train loss is 25.2689208984375 and accuracy is 0.7700000405311584\n",
      "val loss is 25.06731605529785 and accuracy is 0.7739999294281006\n",
      "train loss is 25.05994415283203 and accuracy is 0.7950000166893005\n",
      "val loss is 24.882774353027344 and accuracy is 0.7789999842643738\n",
      "train loss is 24.893674850463867 and accuracy is 0.7749999761581421\n",
      "val loss is 24.673139572143555 and accuracy is 0.8169999718666077\n",
      "train loss is 24.70290756225586 and accuracy is 0.7750000357627869\n",
      "val loss is 24.49551010131836 and accuracy is 0.8010000586509705\n",
      "train loss is 24.53866958618164 and accuracy is 0.7350000143051147\n",
      "val loss is 24.310548782348633 and accuracy is 0.7980000376701355\n",
      "train loss is 24.27227210998535 and accuracy is 0.8550000190734863\n",
      "val loss is 24.128808975219727 and accuracy is 0.8050000071525574\n",
      "train loss is 24.122713088989258 and accuracy is 0.8100000023841858\n",
      "val loss is 23.94439125061035 and accuracy is 0.7930000424385071\n",
      "train loss is 23.916475296020508 and accuracy is 0.8199999928474426\n",
      "val loss is 23.75469207763672 and accuracy is 0.8119999766349792\n",
      "train loss is 23.77124786376953 and accuracy is 0.7799999713897705\n",
      "val loss is 23.58428382873535 and accuracy is 0.8029999732971191\n",
      "train loss is 23.578153610229492 and accuracy is 0.8149999380111694\n",
      "val loss is 23.40244483947754 and accuracy is 0.8109999895095825\n",
      "train loss is 23.413297653198242 and accuracy is 0.809999942779541\n",
      "val loss is 23.2243709564209 and accuracy is 0.8040000200271606\n",
      "train loss is 23.22075080871582 and accuracy is 0.8100000023841858\n",
      "val loss is 23.03118133544922 and accuracy is 0.8090000152587891\n",
      "train loss is 23.028371810913086 and accuracy is 0.8049999475479126\n",
      "val loss is 22.86307716369629 and accuracy is 0.8220000267028809\n",
      "train loss is 22.874605178833008 and accuracy is 0.7949999570846558\n",
      "val loss is 22.687562942504883 and accuracy is 0.8240000009536743\n",
      "train loss is 22.716760635375977 and accuracy is 0.7699999809265137\n",
      "val loss is 22.515897750854492 and accuracy is 0.812999963760376\n",
      "train loss is 22.52137565612793 and accuracy is 0.8049999475479126\n",
      "val loss is 22.34566307067871 and accuracy is 0.8030000329017639\n",
      "train loss is 22.360774993896484 and accuracy is 0.7899999618530273\n",
      "val loss is 22.179357528686523 and accuracy is 0.8060000538825989\n",
      "train loss is 22.126544952392578 and accuracy is 0.8650000691413879\n",
      "val loss is 22.008237838745117 and accuracy is 0.8130000233650208\n",
      "train loss is 21.99315643310547 and accuracy is 0.8299999833106995\n",
      "val loss is 21.81989288330078 and accuracy is 0.8340000510215759\n",
      "train loss is 21.840927124023438 and accuracy is 0.7999999523162842\n",
      "val loss is 21.687753677368164 and accuracy is 0.7910000085830688\n"
     ]
    },
    {
     "data": {
      "text/plain": [
       "<Channel at 0x2c9093f9450>"
      ]
     },
     "execution_count": 32,
     "metadata": {},
     "output_type": "execute_result"
    }
   ],
   "source": [
    "batch_size = 100\n",
    "val_size = 500\n",
    "for i in range(100):\n",
    "    for phase in ['train','val']:\n",
    "        if phase == 'train':\n",
    "            step = [loss, accuracy, train_step]\n",
    "            first, second, expect = data.make_batch(batch_size, dat_type='train')\n",
    "        else:\n",
    "            step = [loss, accuracy, correct_pred]\n",
    "            first, second, expect = data.make_batch(val_size, dat_type='val')\n",
    "        feed = {X1:first,X2:second,y:expect}\n",
    "        current_loss, acc, _ = sess.run(step, feed_dict=feed)\n",
    "        print('{} loss is {} and accuracy is {}'.format(phase, current_loss, acc))\n",
    "\n",
    "sound.play()"
   ]
  },
  {
   "cell_type": "code",
   "execution_count": 33,
   "metadata": {
    "collapsed": true
   },
   "outputs": [],
   "source": [
    "sound.stop()"
   ]
  },
  {
   "cell_type": "code",
   "execution_count": null,
   "metadata": {
    "collapsed": true
   },
   "outputs": [],
   "source": []
  }
 ],
 "metadata": {
  "kernelspec": {
   "display_name": "Python [conda env:chatbot]",
   "language": "python",
   "name": "conda-env-chatbot-py"
  },
  "language_info": {
   "codemirror_mode": {
    "name": "ipython",
    "version": 3
   },
   "file_extension": ".py",
   "mimetype": "text/x-python",
   "name": "python",
   "nbconvert_exporter": "python",
   "pygments_lexer": "ipython3",
   "version": "3.5.3"
  }
 },
 "nbformat": 4,
 "nbformat_minor": 2
}
