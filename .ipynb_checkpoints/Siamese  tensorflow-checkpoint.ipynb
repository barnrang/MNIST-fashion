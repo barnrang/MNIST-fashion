{
 "cells": [
  {
   "cell_type": "markdown",
   "metadata": {},
   "source": [
    "# 参考\n",
    "\n",
    "SiameseNet Oneshot\n",
    "\n",
    "http://www.cs.cmu.edu/~rsalakhu/papers/oneshot1.pdf"
   ]
  },
  {
   "cell_type": "code",
   "execution_count": 3,
   "metadata": {
    "collapsed": true,
    "scrolled": true
   },
   "outputs": [],
   "source": [
    "import numpy as np\n",
    "from PIL import Image\n",
    "import matplotlib.pyplot as plt\n",
    "import matplotlib.image as img\n",
    "%matplotlib inline\n",
    "%load_ext autoreload\n",
    "%autoreload 2"
   ]
  },
  {
   "cell_type": "markdown",
   "metadata": {},
   "source": [
    "# Helper\n",
    "located at helper/load_batch. The sole purpose is to save and load the data's batch\n",
    "\n",
    "helper/load_music is for loading alarm music (require ffmpeg)"
   ]
  },
  {
   "cell_type": "code",
   "execution_count": 101,
   "metadata": {
    "scrolled": false
   },
   "outputs": [],
   "source": [
    "import helper.load_batch as lb\n",
    "import helper.load_music as ld\n",
    "import pygame\n",
    "songs = ld.music_load(dir='Music_sample',length=8000)\n",
    "song_test = songs[0].reshape(-1,2)\n",
    "pygame.mixer.init(44100,-16,2)\n",
    "sound = pygame.sndarray.make_sound(song_test)"
   ]
  },
  {
   "cell_type": "code",
   "execution_count": 2,
   "metadata": {
    "scrolled": true
   },
   "outputs": [],
   "source": [
    "import tensorflow as tf\n",
    "from keras.datasets import fashion_mnist\n",
    "from tensorflow.contrib.image import transform"
   ]
  },
  {
   "cell_type": "code",
   "execution_count": 6,
   "metadata": {},
   "outputs": [
    {
     "data": {
      "text/plain": [
       "[name: \"/device:CPU:0\"\n",
       " device_type: \"CPU\"\n",
       " memory_limit: 268435456\n",
       " locality {\n",
       " }\n",
       " incarnation: 17299522488836033263, name: \"/device:GPU:0\"\n",
       " device_type: \"GPU\"\n",
       " memory_limit: 78643200\n",
       " locality {\n",
       "   bus_id: 1\n",
       " }\n",
       " incarnation: 15139149449561820264\n",
       " physical_device_desc: \"device: 0, name: GeForce GTX 960M, pci bus id: 0000:02:00.0, compute capability: 5.0\"]"
      ]
     },
     "execution_count": 6,
     "metadata": {},
     "output_type": "execute_result"
    }
   ],
   "source": [
    "from tensorflow.python.client import device_lib\n",
    "device_lib.list_local_devices()"
   ]
  },
  {
   "cell_type": "code",
   "execution_count": 46,
   "metadata": {
    "collapsed": true
   },
   "outputs": [],
   "source": [
    "(X_train, y_train), (X_test, y_test) = fashion_mnist.load_data()\n",
    "X_train, X_test = [np.reshape(_,(-1,28,28,1))/255. for _ in [X_train, X_test]]\n",
    "X_val, y_val = X_train[-5000:], y_train[-5000:]\n",
    "X_train, y_train = X_train[:-5000], y_train[:-5000]"
   ]
  },
  {
   "cell_type": "code",
   "execution_count": 41,
   "metadata": {
    "collapsed": true
   },
   "outputs": [],
   "source": [
    "(X_train, y_train), (X_test, y_test) = fashion_mnist.load_data()\n",
    "X_train, X_test = [np.reshape(_,(-1,28,28,1))/255. for _ in [X_train, X_test]]\n",
    "X_val, y_val = X_train[-5000:], y_train[-5000:]\n",
    "X_train, y_train = X_train[:5000], y_train[:5000]"
   ]
  },
  {
   "cell_type": "code",
   "execution_count": 47,
   "metadata": {
    "collapsed": true
   },
   "outputs": [],
   "source": [
    "data_dict = {\n",
    "    'X_train':X_train,\n",
    "    'X_val':X_val,\n",
    "    'X_test':X_test,\n",
    "    'y_train':y_train,\n",
    "    'y_val':y_val,\n",
    "    'y_test':y_test,\n",
    "    'num_class':10\n",
    "}"
   ]
  },
  {
   "cell_type": "markdown",
   "metadata": {},
   "source": [
    "# 初期値\n",
    "論文により、\n",
    "- Kernel for Convolution is normal distribution with mean 0 and standard deviation 0.01\n",
    "\n",
    "同様に以下の通りに初期値を与えます。"
   ]
  },
  {
   "cell_type": "code",
   "execution_count": 9,
   "metadata": {
    "collapsed": true
   },
   "outputs": [],
   "source": [
    "Winit = tf.random_normal_initializer(mean=0,stddev=0.01)\n",
    "binit = tf.random_normal_initializer(mean=0.5,stddev=0.01)\n",
    "Denseinit = tf.random_normal_initializer(mean=0,stddev=0.2)"
   ]
  },
  {
   "cell_type": "code",
   "execution_count": 77,
   "metadata": {
    "collapsed": true
   },
   "outputs": [],
   "source": [
    "def model(X, reg_pow=0.0001):\n",
    "    reg = tf.contrib.layers.l2_regularizer(scale=reg_pow)\n",
    "    with tf.variable_scope('conv1'):\n",
    "        X = tf.layers.conv2d(X,64,kernel_size=[5,5],strides=[1,1],activation=tf.nn.relu\n",
    "                     ,kernel_initializer=Winit,bias_initializer=binit,kernel_regularizer=reg)\n",
    "        X = tf.layers.max_pooling2d(X,[2,2],2)\n",
    "    with tf.variable_scope('conv2'):\n",
    "        X = tf.layers.conv2d(X,128,kernel_size=[3,3],strides=[1,1],activation=tf.nn.relu\n",
    "                        ,kernel_initializer=Winit,bias_initializer=binit,kernel_regularizer=reg)\n",
    "        X = tf.layers.max_pooling2d(X,[2,2],2)\n",
    "        X = tf.contrib.layers.flatten(X)\n",
    "    with tf.variable_scope('full1'):\n",
    "        X = tf.layers.dense(X,1024,kernel_initializer=Denseinit,kernel_regularizer=reg,activation=tf.sigmoid)\n",
    "        X = tf.layers.batch_normalization(X,training=is_training)\n",
    "        return X"
   ]
  },
  {
   "cell_type": "markdown",
   "metadata": {},
   "source": [
    "# 距離\n",
    "$$ p = \\sigma\\left(\\sum_{j}\\alpha_j\\left|h_{1,L-1}^{(j)}-h_{1,L-1}^{(j)}\\right|\\right) $$\n",
    "実践的に dense layer 一層を用いる。"
   ]
  },
  {
   "cell_type": "code",
   "execution_count": 51,
   "metadata": {
    "collapsed": true
   },
   "outputs": [],
   "source": [
    "def combine_predict(X1,X2):\n",
    "    '''\n",
    "    Input\n",
    "    X1,X2: (N,M)\n",
    "    Return\n",
    "    logistic prediction\n",
    "    '''\n",
    "    dim = X1.get_shape()[1]\n",
    "    diff = tf.abs(X1-X2)\n",
    "    out = tf.layers.dense(diff,1,kernel_initializer=Denseinit, use_bias=False)\n",
    "    return tf.reduce_sum(diff,axis=1), out\n",
    "    "
   ]
  },
  {
   "cell_type": "markdown",
   "metadata": {},
   "source": [
    "# 参考\n",
    "https://www.mathworks.com/discovery/affine-transformation.html\n",
    "\n",
    "https://www.tensorflow.org/api_docs/python/tf/contrib/image/transform\n",
    "\n",
    "From the paper,\n",
    "T = (θ, ρx, ρy, sx, sy, tx, tx), with θ ∈　[−10.0, 10.0], ρx, ρy ∈ [−0.3, 0.3], sx, sy ∈ [0.8, 1.2],tx, ty ∈ [−2, 2]\n",
    "\n",
    "順番にrotation, shear, scale, translation\n",
    "\n",
    "$$\\begin{bmatrix}\n",
    "\\cos{\\theta} & \\sin{\\theta} \\\\\n",
    "-\\sin{\\theta} & \\cos{\\theta}\n",
    "\\end{bmatrix}\n",
    "\\begin{bmatrix}\n",
    "1 & \\rho_y \\\\\n",
    "\\rho_x & 1\n",
    "\\end{bmatrix}\n",
    "\\begin{bmatrix}\n",
    "s_x & 0 \\\\\n",
    "0 & s_y\n",
    "\\end{bmatrix}\n",
    "\\begin{bmatrix}\n",
    "x\\\\\n",
    "y\n",
    "\\end{bmatrix} + \n",
    "\\begin{bmatrix}\n",
    "t_x\\\\\n",
    "t_y\n",
    "\\end{bmatrix} = \n",
    "\\begin{bmatrix}\n",
    "a_0 & a_1 \\\\\n",
    "b_0 & b_1\n",
    "\\end{bmatrix}\n",
    "\\begin{bmatrix}\n",
    "x\\\\\n",
    "y\n",
    "\\end{bmatrix}\n",
    "+\n",
    "\\begin{bmatrix}\n",
    "a_2\\\\\n",
    "b_2\n",
    "\\end{bmatrix}\n",
    "$$"
   ]
  },
  {
   "cell_type": "code",
   "execution_count": 114,
   "metadata": {
    "collapsed": true
   },
   "outputs": [],
   "source": [
    "def prob(x):\n",
    "    return tf.less(tf.random_uniform([1]),x)[0]\n",
    "\n",
    "def rotate(x):\n",
    "    theta = tf.random_uniform([1],-10,10)[0]/(180)*np.pi\n",
    "    sub_tran = tf.convert_to_tensor([[tf.cos(theta),tf.sin(theta)],[-tf.sin(theta), tf.cos(theta)]])\n",
    "    return tf.matmul(x, sub_tran)\n",
    "\n",
    "def shear(x):\n",
    "    p = tf.random_uniform([2],-0.1,0.1)\n",
    "    sub_tran = tf.convert_to_tensor([[1,p[1]],[p[0], 1]])\n",
    "    return tf.matmul(x, sub_tran)\n",
    "\n",
    "def scale(x):   \n",
    "    s = tf.random_uniform([2],0.8,1.2)\n",
    "    sub_tran = tf.convert_to_tensor([[s[0],0],[0,s[1]]])\n",
    "    return tf.matmul(x, sub_tran)\n",
    "\n",
    "def translation():\n",
    "    return tf.random_uniform([2],-1,1)\n",
    "\n",
    "def affine_transform(X, rate):\n",
    "    trans_matrix = tf.eye(2)\n",
    "    trans_matrix = tf.cond(prob(rate),lambda: rotate(trans_matrix), lambda: trans_matrix)\n",
    "    trans_matrix = tf.cond(prob(rate),lambda: shear(trans_matrix), lambda: trans_matrix)\n",
    "    trans_matrix = tf.cond(prob(rate),lambda: scale(trans_matrix), lambda: trans_matrix)\n",
    "    t = tf.cond(prob(rate), translation, lambda: tf.zeros(2))\n",
    "    a0,a1,b0,b1 = trans_matrix[0][0],trans_matrix[0][1],trans_matrix[1][0],trans_matrix[1][1]\n",
    "    a2,b2 = t[0],t[1]\n",
    "    return transform(X, [a0,a1,a2,b0,b1,b2,0,0])"
   ]
  },
  {
   "cell_type": "code",
   "execution_count": 115,
   "metadata": {
    "collapsed": true
   },
   "outputs": [],
   "source": [
    "tf.reset_default_graph()\n",
    "X1 = tf.placeholder(tf.float32,[None,28,28,1])\n",
    "X2 = tf.placeholder(tf.float32,[None,28,28,1])\n",
    "y = tf.placeholder(tf.int32,[None,1])\n",
    "is_training = tf.placeholder(tf.bool)"
   ]
  },
  {
   "cell_type": "code",
   "execution_count": 116,
   "metadata": {},
   "outputs": [],
   "source": [
    "XL,XR = tf.cond(is_training,\n",
    "                lambda:(affine_transform(X1,0.5),affine_transform(X2,0.5)),\n",
    "                lambda: (X1,X2))\n",
    "with tf.variable_scope('bottleneck') as scope:\n",
    "    Y1 = model(XL)\n",
    "    scope.reuse_variables()\n",
    "    Y2 = model(XR)\n",
    "dist, p = combine_predict(Y1,Y2)\n",
    "reg_losses = tf.get_collection(tf.GraphKeys.REGULARIZATION_LOSSES)\n",
    "loss = tf.reduce_mean(tf.nn.sigmoid_cross_entropy_with_logits(labels=tf.cast(y,tf.float32),logits=p)) \\\n",
    "    + tf.reduce_sum(reg_losses)\n",
    "optimizer = tf.train.AdamOptimizer(learning_rate=0.001)\n",
    "\n",
    "#batchnormalize\n",
    "update_ops = tf.get_collection(tf.GraphKeys.UPDATE_OPS)\n",
    "with tf.control_dependencies(update_ops):\n",
    "    train_step = optimizer.minimize(loss)\n",
    "\n",
    "\n",
    "\n",
    "predict = tf.cast(tf.greater(p,0.), dtype=tf.int32)\n",
    "correct_pred = tf.equal(predict, y)\n",
    "accuracy = tf.reduce_mean(tf.cast(correct_pred,tf.float32))"
   ]
  },
  {
   "cell_type": "code",
   "execution_count": 117,
   "metadata": {
    "scrolled": true
   },
   "outputs": [
    {
     "name": "stdout",
     "output_type": "stream",
     "text": [
      "INFO:tensorflow:Restoring parameters from siamese_model/siamese2\n"
     ]
    }
   ],
   "source": [
    "sess = tf.Session()\n",
    "saver = tf.train.Saver()\n",
    "try:\n",
    "    saver.restore(sess,'siamese_model/siamese2')\n",
    "except:\n",
    "    sess.run(tf.global_variables_initializer())"
   ]
  },
  {
   "cell_type": "markdown",
   "metadata": {},
   "source": [
    "# Affine Test\n",
    "The first is the original image while the last is the image controlled not to be transformed."
   ]
  },
  {
   "cell_type": "code",
   "execution_count": 120,
   "metadata": {
    "scrolled": true
   },
   "outputs": [
    {
     "data": {
      "text/plain": [
       "<matplotlib.text.Text at 0x7fc2828c1e80>"
      ]
     },
     "execution_count": 120,
     "metadata": {},
     "output_type": "execute_result"
    },
    {
     "data": {
      "image/png": "[encoded data removed]",
      "text/plain": [
       "<matplotlib.figure.Figure at 0x7fc282c1d358>"
      ]
     },
     "metadata": {},
     "output_type": "display_data"
    }
   ],
   "source": [
    "affine_test = X_train[3:4]\n",
    "fig, axes = plt.subplots(2,4,figsize=(12,8))\n",
    "axes[0,0].imshow(affine_test[0,:,:,0])\n",
    "axes[0,0].set_title('original')\n",
    "count = 0\n",
    "for axe_row in axes:\n",
    "    for axe in axe_row:\n",
    "        count += 1\n",
    "        trans_image = sess.run(XL, feed_dict={X1:affine_test,is_training:True})\n",
    "        if count in [1,8]:\n",
    "            continue\n",
    "        axe.imshow(trans_image[0,:,:,0])\n",
    "        axe.set_title('affine {}'.format(count))\n",
    "trans_image = sess.run(XL, feed_dict={X1:affine_test,is_training:False})\n",
    "axes[1,3].imshow(trans_image[0,:,:,0])\n",
    "axes[1,3].set_title('set no affine')"
   ]
  },
  {
   "cell_type": "code",
   "execution_count": 69,
   "metadata": {
    "collapsed": true
   },
   "outputs": [],
   "source": [
    "data = lb.BatchLoader(**data_dict)"
   ]
  },
  {
   "cell_type": "code",
   "execution_count": 98,
   "metadata": {},
   "outputs": [
    {
     "name": "stdout",
     "output_type": "stream",
     "text": [
      "train loss is 7.314289569854736 and accuracy is 0.46000000834465027\n",
      "val loss is 7.229135990142822 and accuracy is 0.5080000162124634\n",
      "train loss is 5.43681001663208 and accuracy is 0.7900000214576721\n",
      "val loss is 5.531088352203369 and accuracy is 0.5260000228881836\n",
      "train loss is 4.343560218811035 and accuracy is 0.7950000166893005\n",
      "val loss is 4.415203094482422 and accuracy is 0.6449999809265137\n",
      "train loss is 3.6439528465270996 and accuracy is 0.7450000047683716\n",
      "val loss is 3.661012649536133 and accuracy is 0.6710000038146973\n",
      "train loss is 3.120896816253662 and accuracy is 0.7749999761581421\n",
      "val loss is 3.1215145587921143 and accuracy is 0.7730000019073486\n",
      "train loss is 2.79866099357605 and accuracy is 0.675000011920929\n",
      "val loss is 2.773489236831665 and accuracy is 0.6779999732971191\n",
      "train loss is 2.5874648094177246 and accuracy is 0.7350000143051147\n",
      "val loss is 2.442681312561035 and accuracy is 0.8029999732971191\n",
      "train loss is 2.187492847442627 and accuracy is 0.7799999713897705\n",
      "val loss is 2.2079968452453613 and accuracy is 0.7639999985694885\n",
      "train loss is 1.995947241783142 and accuracy is 0.7950000166893005\n",
      "val loss is 1.9750703573226929 and accuracy is 0.8100000023841858\n",
      "train loss is 1.7509053945541382 and accuracy is 0.8450000286102295\n",
      "val loss is 1.807012915611267 and accuracy is 0.8059999942779541\n",
      "train loss is 1.6612752676010132 and accuracy is 0.8100000023841858\n",
      "val loss is 1.5830758810043335 and accuracy is 0.8600000143051147\n",
      "train loss is 1.505286693572998 and accuracy is 0.8349999785423279\n",
      "val loss is 1.4660471677780151 and accuracy is 0.8389999866485596\n",
      "train loss is 1.3952841758728027 and accuracy is 0.8399999737739563\n",
      "val loss is 1.38640558719635 and accuracy is 0.8330000042915344\n",
      "train loss is 1.2948174476623535 and accuracy is 0.824999988079071\n",
      "val loss is 1.2488455772399902 and accuracy is 0.8539999723434448\n",
      "train loss is 1.1655467748641968 and accuracy is 0.8650000095367432\n",
      "val loss is 1.1226346492767334 and accuracy is 0.8769999742507935\n",
      "train loss is 1.1011302471160889 and accuracy is 0.8349999785423279\n",
      "val loss is 1.0885539054870605 and accuracy is 0.847000002861023\n",
      "train loss is 1.0437963008880615 and accuracy is 0.824999988079071\n",
      "val loss is 1.0190078020095825 and accuracy is 0.8579999804496765\n",
      "train loss is 1.0097415447235107 and accuracy is 0.8349999785423279\n",
      "val loss is 0.9174571633338928 and accuracy is 0.8809999823570251\n",
      "train loss is 0.9154763221740723 and accuracy is 0.8299999833106995\n",
      "val loss is 0.9179700016975403 and accuracy is 0.8389999866485596\n",
      "train loss is 0.9270479083061218 and accuracy is 0.800000011920929\n",
      "val loss is 0.8745739459991455 and accuracy is 0.859000027179718\n",
      "train loss is 0.8107859492301941 and accuracy is 0.8500000238418579\n",
      "val loss is 0.7665432691574097 and accuracy is 0.875\n",
      "train loss is 0.7775824069976807 and accuracy is 0.8450000286102295\n",
      "val loss is 0.7418404817581177 and accuracy is 0.8859999775886536\n",
      "train loss is 0.7403488159179688 and accuracy is 0.8149999976158142\n",
      "val loss is 0.7388666272163391 and accuracy is 0.8650000095367432\n",
      "train loss is 0.7015388011932373 and accuracy is 0.8349999785423279\n",
      "val loss is 0.6392104625701904 and accuracy is 0.8939999938011169\n",
      "train loss is 0.6403446197509766 and accuracy is 0.8700000047683716\n",
      "val loss is 0.6214599013328552 and accuracy is 0.8830000162124634\n",
      "train loss is 0.6724042892456055 and accuracy is 0.8500000238418579\n",
      "val loss is 0.6262023448944092 and accuracy is 0.8610000014305115\n",
      "train loss is 0.639350175857544 and accuracy is 0.8349999785423279\n",
      "val loss is 0.5482696890830994 and accuracy is 0.8999999761581421\n",
      "train loss is 0.5913339257240295 and accuracy is 0.8700000047683716\n",
      "val loss is 0.6080536842346191 and accuracy is 0.8349999785423279\n",
      "train loss is 0.5243546962738037 and accuracy is 0.875\n",
      "val loss is 0.5772166848182678 and accuracy is 0.8569999933242798\n",
      "train loss is 0.5550267696380615 and accuracy is 0.8399999737739563\n",
      "val loss is 0.5068598985671997 and accuracy is 0.8790000081062317\n",
      "train loss is 0.517236590385437 and accuracy is 0.8700000047683716\n",
      "val loss is 0.5542123317718506 and accuracy is 0.8450000286102295\n",
      "train loss is 0.4865766167640686 and accuracy is 0.8550000190734863\n",
      "val loss is 0.4512799382209778 and accuracy is 0.8960000276565552\n",
      "train loss is 0.4955088496208191 and accuracy is 0.8650000095367432\n",
      "val loss is 0.5279892683029175 and accuracy is 0.8410000205039978\n",
      "train loss is 0.4592297077178955 and accuracy is 0.8700000047683716\n",
      "val loss is 0.4531581997871399 and accuracy is 0.8679999709129333\n",
      "train loss is 0.44930970668792725 and accuracy is 0.875\n",
      "val loss is 0.4244515299797058 and accuracy is 0.8930000066757202\n",
      "train loss is 0.396893173456192 and accuracy is 0.9049999713897705\n",
      "val loss is 0.40218299627304077 and accuracy is 0.8989999890327454\n",
      "train loss is 0.3703612685203552 and accuracy is 0.9150000214576721\n",
      "val loss is 0.42889031767845154 and accuracy is 0.8709999918937683\n",
      "train loss is 0.3871895670890808 and accuracy is 0.8849999904632568\n",
      "val loss is 0.3939305543899536 and accuracy is 0.8809999823570251\n",
      "train loss is 0.4072217643260956 and accuracy is 0.8799999952316284\n",
      "val loss is 0.4065272808074951 and accuracy is 0.8659999966621399\n",
      "train loss is 0.3965020775794983 and accuracy is 0.8650000095367432\n",
      "val loss is 0.3647826313972473 and accuracy is 0.8980000019073486\n",
      "train loss is 0.42399725317955017 and accuracy is 0.8700000047683716\n",
      "val loss is 0.3687652349472046 and accuracy is 0.875\n",
      "train loss is 0.4026966691017151 and accuracy is 0.8600000143051147\n",
      "val loss is 0.34926360845565796 and accuracy is 0.8999999761581421\n",
      "train loss is 0.37034425139427185 and accuracy is 0.8600000143051147\n",
      "val loss is 0.37293824553489685 and accuracy is 0.8740000128746033\n",
      "train loss is 0.37655341625213623 and accuracy is 0.8799999952316284\n",
      "val loss is 0.39623796939849854 and accuracy is 0.8679999709129333\n",
      "train loss is 0.3366841971874237 and accuracy is 0.9100000262260437\n",
      "val loss is 0.34679004549980164 and accuracy is 0.890999972820282\n",
      "train loss is 0.3296072483062744 and accuracy is 0.8799999952316284\n",
      "val loss is 0.3400591015815735 and accuracy is 0.8889999985694885\n",
      "train loss is 0.2914080321788788 and accuracy is 0.9049999713897705\n",
      "val loss is 0.34157857298851013 and accuracy is 0.871999979019165\n",
      "train loss is 0.43825867772102356 and accuracy is 0.8349999785423279\n",
      "val loss is 0.2984886169433594 and accuracy is 0.8960000276565552\n",
      "train loss is 0.29494884610176086 and accuracy is 0.8849999904632568\n",
      "val loss is 0.3163728415966034 and accuracy is 0.9020000100135803\n",
      "train loss is 0.3021235764026642 and accuracy is 0.8999999761581421\n",
      "val loss is 0.2833257019519806 and accuracy is 0.9079999923706055\n",
      "train loss is 0.3062857985496521 and accuracy is 0.8849999904632568\n",
      "val loss is 0.2917369604110718 and accuracy is 0.8980000019073486\n",
      "train loss is 0.2944643199443817 and accuracy is 0.925000011920929\n",
      "val loss is 0.30782580375671387 and accuracy is 0.8980000019073486\n",
      "train loss is 0.2976630628108978 and accuracy is 0.8949999809265137\n",
      "val loss is 0.32796981930732727 and accuracy is 0.8930000066757202\n",
      "train loss is 0.30199748277664185 and accuracy is 0.8999999761581421\n",
      "val loss is 0.323037326335907 and accuracy is 0.8799999952316284\n",
      "train loss is 0.4261057674884796 and accuracy is 0.8450000286102295\n",
      "val loss is 0.29425695538520813 and accuracy is 0.906000018119812\n",
      "train loss is 0.3743011951446533 and accuracy is 0.8500000238418579\n",
      "val loss is 0.30360883474349976 and accuracy is 0.8960000276565552\n",
      "train loss is 0.3487175703048706 and accuracy is 0.8600000143051147\n",
      "val loss is 0.27133235335350037 and accuracy is 0.9169999957084656\n",
      "train loss is 0.2210848182439804 and accuracy is 0.925000011920929\n",
      "val loss is 0.2876591980457306 and accuracy is 0.906000018119812\n",
      "train loss is 0.30251678824424744 and accuracy is 0.875\n",
      "val loss is 0.32450899481773376 and accuracy is 0.8740000128746033\n",
      "train loss is 0.24413654208183289 and accuracy is 0.9100000262260437\n",
      "val loss is 0.30456557869911194 and accuracy is 0.878000020980835\n",
      "train loss is 0.33922380208969116 and accuracy is 0.8600000143051147\n",
      "val loss is 0.2543746829032898 and accuracy is 0.921999990940094\n",
      "train loss is 0.33253711462020874 and accuracy is 0.875\n",
      "val loss is 0.282825231552124 and accuracy is 0.8960000276565552\n"
     ]
    },
    {
     "name": "stdout",
     "output_type": "stream",
     "text": [
      "train loss is 0.30630022287368774 and accuracy is 0.8799999952316284\n",
      "val loss is 0.2579459547996521 and accuracy is 0.902999997138977\n",
      "train loss is 0.28214019536972046 and accuracy is 0.8949999809265137\n",
      "val loss is 0.27989110350608826 and accuracy is 0.9039999842643738\n",
      "train loss is 0.24572131037712097 and accuracy is 0.9100000262260437\n",
      "val loss is 0.23896463215351105 and accuracy is 0.9110000133514404\n",
      "train loss is 0.26737236976623535 and accuracy is 0.8899999856948853\n",
      "val loss is 0.27348485589027405 and accuracy is 0.8960000276565552\n",
      "train loss is 0.2819618284702301 and accuracy is 0.9049999713897705\n",
      "val loss is 0.32598769664764404 and accuracy is 0.8790000081062317\n",
      "train loss is 0.2414526343345642 and accuracy is 0.9049999713897705\n",
      "val loss is 0.292965292930603 and accuracy is 0.8849999904632568\n",
      "train loss is 0.3326728940010071 and accuracy is 0.8650000095367432\n",
      "val loss is 0.25926998257637024 and accuracy is 0.9169999957084656\n",
      "train loss is 0.31203529238700867 and accuracy is 0.8999999761581421\n",
      "val loss is 0.2569870054721832 and accuracy is 0.8949999809265137\n",
      "train loss is 0.2560482621192932 and accuracy is 0.9049999713897705\n",
      "val loss is 0.23210608959197998 and accuracy is 0.9210000038146973\n",
      "train loss is 0.2852100431919098 and accuracy is 0.925000011920929\n",
      "val loss is 0.24826589226722717 and accuracy is 0.9129999876022339\n",
      "train loss is 0.26757457852363586 and accuracy is 0.8949999809265137\n",
      "val loss is 0.2640109062194824 and accuracy is 0.9070000052452087\n",
      "train loss is 0.23929756879806519 and accuracy is 0.9150000214576721\n",
      "val loss is 0.27063456177711487 and accuracy is 0.9010000228881836\n",
      "train loss is 0.2298143059015274 and accuracy is 0.9100000262260437\n",
      "val loss is 0.23091846704483032 and accuracy is 0.9279999732971191\n",
      "train loss is 0.20829284191131592 and accuracy is 0.9200000166893005\n",
      "val loss is 0.23841628432273865 and accuracy is 0.9129999876022339\n",
      "train loss is 0.2705107629299164 and accuracy is 0.925000011920929\n",
      "val loss is 0.24473291635513306 and accuracy is 0.9200000166893005\n",
      "train loss is 0.3014073371887207 and accuracy is 0.875\n",
      "val loss is 0.22927972674369812 and accuracy is 0.9290000200271606\n",
      "train loss is 0.24394088983535767 and accuracy is 0.9049999713897705\n",
      "val loss is 0.29387176036834717 and accuracy is 0.8889999985694885\n",
      "train loss is 0.34472018480300903 and accuracy is 0.8600000143051147\n",
      "val loss is 0.22443434596061707 and accuracy is 0.9160000085830688\n",
      "train loss is 0.27627643942832947 and accuracy is 0.875\n",
      "val loss is 0.26920342445373535 and accuracy is 0.8930000066757202\n",
      "train loss is 0.21547722816467285 and accuracy is 0.9350000023841858\n",
      "val loss is 0.2164306938648224 and accuracy is 0.9259999990463257\n",
      "train loss is 0.30947184562683105 and accuracy is 0.875\n",
      "val loss is 0.27205991744995117 and accuracy is 0.9020000100135803\n",
      "train loss is 0.27748632431030273 and accuracy is 0.9150000214576721\n",
      "val loss is 0.2620545029640198 and accuracy is 0.902999997138977\n",
      "train loss is 0.26028960943222046 and accuracy is 0.9150000214576721\n",
      "val loss is 0.24692635238170624 and accuracy is 0.9190000295639038\n",
      "train loss is 0.27099528908729553 and accuracy is 0.8949999809265137\n",
      "val loss is 0.2191348671913147 and accuracy is 0.9300000071525574\n",
      "train loss is 0.233615443110466 and accuracy is 0.925000011920929\n",
      "val loss is 0.2716529965400696 and accuracy is 0.8939999938011169\n",
      "train loss is 0.18653267621994019 and accuracy is 0.949999988079071\n",
      "val loss is 0.21320916712284088 and accuracy is 0.9330000281333923\n",
      "train loss is 0.26674288511276245 and accuracy is 0.8949999809265137\n",
      "val loss is 0.21078458428382874 and accuracy is 0.9279999732971191\n",
      "train loss is 0.28170570731163025 and accuracy is 0.8899999856948853\n",
      "val loss is 0.22949054837226868 and accuracy is 0.9179999828338623\n",
      "train loss is 0.33395206928253174 and accuracy is 0.8799999952316284\n",
      "val loss is 0.24845817685127258 and accuracy is 0.9089999794960022\n",
      "train loss is 0.2164211869239807 and accuracy is 0.9200000166893005\n",
      "val loss is 0.24441325664520264 and accuracy is 0.9079999923706055\n",
      "train loss is 0.3097010850906372 and accuracy is 0.8799999952316284\n",
      "val loss is 0.21301141381263733 and accuracy is 0.9259999990463257\n",
      "train loss is 0.31028586626052856 and accuracy is 0.875\n",
      "val loss is 0.22354914247989655 and accuracy is 0.9200000166893005\n",
      "train loss is 0.3180716931819916 and accuracy is 0.9049999713897705\n",
      "val loss is 0.20717458426952362 and accuracy is 0.921999990940094\n",
      "train loss is 0.2835022211074829 and accuracy is 0.8799999952316284\n",
      "val loss is 0.26252537965774536 and accuracy is 0.8899999856948853\n",
      "train loss is 0.23382259905338287 and accuracy is 0.8949999809265137\n",
      "val loss is 0.2208927571773529 and accuracy is 0.9319999814033508\n",
      "train loss is 0.27736419439315796 and accuracy is 0.875\n",
      "val loss is 0.23440106213092804 and accuracy is 0.9100000262260437\n",
      "train loss is 0.2932290732860565 and accuracy is 0.8949999809265137\n",
      "val loss is 0.21902993321418762 and accuracy is 0.9229999780654907\n",
      "train loss is 0.18400144577026367 and accuracy is 0.9649999737739563\n",
      "val loss is 0.2024654895067215 and accuracy is 0.9300000071525574\n"
     ]
    },
    {
     "data": {
      "text/plain": [
       "<Channel at 0x7fc25c61bfd8>"
      ]
     },
     "execution_count": 98,
     "metadata": {},
     "output_type": "execute_result"
    }
   ],
   "source": [
    "batch_size = 100\n",
    "val_size = 500\n",
    "hist = {'train':[],'val':[]}\n",
    "hist_acc = {'train':[],'val':[]}\n",
    "for i in range(10000):\n",
    "    for phase in ['train','val']:\n",
    "        if phase == 'train':\n",
    "            step = [loss, accuracy, train_step]\n",
    "            first, second, expect = data.make_batch(batch_size, dat_type='train')\n",
    "            feed = {X1:first,X2:second,y:expect,is_training:True}\n",
    "        else:\n",
    "            step = [loss, accuracy, correct_pred]\n",
    "            first, second, expect = data.make_batch(val_size, dat_type='val')\n",
    "            feed = {X1:first,X2:second,y:expect,is_training:False}\n",
    "        current_loss, acc, _ = sess.run(step, feed_dict=feed)\n",
    "        hist[phase].append(current_loss)\n",
    "        hist_acc[phase].append(acc)\n",
    "        if i % 100 == 0:\n",
    "            print('{} loss is {} and accuracy is {}'.format(phase, current_loss, acc))\n",
    "\n",
    "saver = tf.train.Saver()\n",
    "path = saver.save(sess,'siamese_model/siamese')\n",
    "sound.play()"
   ]
  },
  {
   "cell_type": "code",
   "execution_count": 99,
   "metadata": {},
   "outputs": [
    {
     "data": {
      "image/png": "[encoded data removed]",
      "text/plain": [
       "<matplotlib.figure.Figure at 0x7fc25c660198>"
      ]
     },
     "metadata": {},
     "output_type": "display_data"
    }
   ],
   "source": [
    "figs, axes = plt.subplots(1,2,figsize=(10,5))\n",
    "axes[0].plot(hist['train'])\n",
    "axes[0].plot(hist['val'])\n",
    "axes[0].set_title('train/val loss')\n",
    "axes[1].plot(hist_acc['train'])\n",
    "axes[1].plot(hist_acc['val'])\n",
    "axes[1].set_title('train/val acc')\n",
    "plt.show()\n",
    "    "
   ]
  },
  {
   "cell_type": "code",
   "execution_count": 103,
   "metadata": {},
   "outputs": [
    {
     "name": "stdout",
     "output_type": "stream",
     "text": [
      "train loss is 0.2862645983695984 and accuracy is 0.8799999952316284\n",
      "val loss is 0.22698423266410828 and accuracy is 0.9210000038146973\n",
      "train loss is 0.26024580001831055 and accuracy is 0.8999999761581421\n",
      "val loss is 0.21356916427612305 and accuracy is 0.9169999957084656\n",
      "train loss is 0.1723158061504364 and accuracy is 0.9549999833106995\n",
      "val loss is 0.22055239975452423 and accuracy is 0.9200000166893005\n",
      "train loss is 0.23191076517105103 and accuracy is 0.9350000023841858\n",
      "val loss is 0.2516912817955017 and accuracy is 0.9139999747276306\n",
      "train loss is 0.2808801531791687 and accuracy is 0.9049999713897705\n",
      "val loss is 0.22017435729503632 and accuracy is 0.9210000038146973\n",
      "train loss is 0.2634834945201874 and accuracy is 0.9049999713897705\n",
      "val loss is 0.23443298041820526 and accuracy is 0.9089999794960022\n",
      "train loss is 0.19310078024864197 and accuracy is 0.9399999976158142\n",
      "val loss is 0.2445201724767685 and accuracy is 0.9089999794960022\n",
      "train loss is 0.24650660157203674 and accuracy is 0.9049999713897705\n",
      "val loss is 0.22770008444786072 and accuracy is 0.9169999957084656\n",
      "train loss is 0.25664106011390686 and accuracy is 0.8949999809265137\n",
      "val loss is 0.1838158220052719 and accuracy is 0.9359999895095825\n",
      "train loss is 0.26815348863601685 and accuracy is 0.8899999856948853\n",
      "val loss is 0.24465321004390717 and accuracy is 0.9100000262260437\n",
      "train loss is 0.21736814081668854 and accuracy is 0.9200000166893005\n",
      "val loss is 0.23915345966815948 and accuracy is 0.9110000133514404\n",
      "train loss is 0.21398551762104034 and accuracy is 0.9350000023841858\n",
      "val loss is 0.21206450462341309 and accuracy is 0.9259999990463257\n",
      "train loss is 0.28465723991394043 and accuracy is 0.9100000262260437\n",
      "val loss is 0.2538226842880249 and accuracy is 0.9120000004768372\n",
      "train loss is 0.21584263443946838 and accuracy is 0.9300000071525574\n",
      "val loss is 0.2178947925567627 and accuracy is 0.9229999780654907\n",
      "train loss is 0.28344494104385376 and accuracy is 0.8799999952316284\n",
      "val loss is 0.2403942048549652 and accuracy is 0.9110000133514404\n",
      "train loss is 0.21182569861412048 and accuracy is 0.9150000214576721\n",
      "val loss is 0.21069994568824768 and accuracy is 0.9210000038146973\n",
      "train loss is 0.18750448524951935 and accuracy is 0.9350000023841858\n",
      "val loss is 0.24673154950141907 and accuracy is 0.9160000085830688\n",
      "train loss is 0.2298412024974823 and accuracy is 0.9150000214576721\n",
      "val loss is 0.23034068942070007 and accuracy is 0.906000018119812\n",
      "train loss is 0.2750930190086365 and accuracy is 0.8949999809265137\n",
      "val loss is 0.24375586211681366 and accuracy is 0.906000018119812\n",
      "train loss is 0.2449294924736023 and accuracy is 0.9200000166893005\n",
      "val loss is 0.18484395742416382 and accuracy is 0.9359999895095825\n",
      "train loss is 0.27933722734451294 and accuracy is 0.8999999761581421\n",
      "val loss is 0.21660441160202026 and accuracy is 0.925000011920929\n",
      "train loss is 0.2917754054069519 and accuracy is 0.9049999713897705\n",
      "val loss is 0.20550036430358887 and accuracy is 0.9300000071525574\n",
      "train loss is 0.2247822880744934 and accuracy is 0.925000011920929\n",
      "val loss is 0.2277984619140625 and accuracy is 0.921999990940094\n",
      "train loss is 0.24141384661197662 and accuracy is 0.925000011920929\n",
      "val loss is 0.19299912452697754 and accuracy is 0.9300000071525574\n",
      "train loss is 0.32343950867652893 and accuracy is 0.8700000047683716\n",
      "val loss is 0.22686004638671875 and accuracy is 0.9240000247955322\n",
      "train loss is 0.28845539689064026 and accuracy is 0.9100000262260437\n",
      "val loss is 0.1857634335756302 and accuracy is 0.9409999847412109\n",
      "train loss is 0.2579635977745056 and accuracy is 0.9049999713897705\n",
      "val loss is 0.21445614099502563 and accuracy is 0.9169999957084656\n",
      "train loss is 0.20442399382591248 and accuracy is 0.925000011920929\n",
      "val loss is 0.229964941740036 and accuracy is 0.9179999828338623\n",
      "train loss is 0.20788872241973877 and accuracy is 0.925000011920929\n",
      "val loss is 0.1878606677055359 and accuracy is 0.9390000104904175\n",
      "train loss is 0.24316056072711945 and accuracy is 0.9049999713897705\n",
      "val loss is 0.25017550587654114 and accuracy is 0.902999997138977\n",
      "train loss is 0.27800452709198 and accuracy is 0.8799999952316284\n",
      "val loss is 0.18815836310386658 and accuracy is 0.9340000152587891\n",
      "train loss is 0.2753942906856537 and accuracy is 0.9100000262260437\n",
      "val loss is 0.19633327424526215 and accuracy is 0.9300000071525574\n",
      "train loss is 0.3203083872795105 and accuracy is 0.8949999809265137\n",
      "val loss is 0.19785603880882263 and accuracy is 0.9300000071525574\n",
      "train loss is 0.2062825709581375 and accuracy is 0.925000011920929\n",
      "val loss is 0.21641722321510315 and accuracy is 0.925000011920929\n",
      "train loss is 0.2769920527935028 and accuracy is 0.9100000262260437\n",
      "val loss is 0.20718061923980713 and accuracy is 0.9340000152587891\n",
      "train loss is 0.1878873109817505 and accuracy is 0.949999988079071\n",
      "val loss is 0.19856370985507965 and accuracy is 0.9350000023841858\n",
      "train loss is 0.24322369694709778 and accuracy is 0.9049999713897705\n",
      "val loss is 0.2110012173652649 and accuracy is 0.921999990940094\n",
      "train loss is 0.2120133936405182 and accuracy is 0.9100000262260437\n",
      "val loss is 0.17849917709827423 and accuracy is 0.9409999847412109\n",
      "train loss is 0.16446515917778015 and accuracy is 0.9399999976158142\n",
      "val loss is 0.21663856506347656 and accuracy is 0.9309999942779541\n",
      "train loss is 0.3211720287799835 and accuracy is 0.8849999904632568\n",
      "val loss is 0.1808585673570633 and accuracy is 0.9380000233650208\n",
      "train loss is 0.19187211990356445 and accuracy is 0.9300000071525574\n",
      "val loss is 0.18915262818336487 and accuracy is 0.9409999847412109\n",
      "train loss is 0.2862580418586731 and accuracy is 0.8799999952316284\n",
      "val loss is 0.21195270121097565 and accuracy is 0.921999990940094\n",
      "train loss is 0.2383391559123993 and accuracy is 0.925000011920929\n",
      "val loss is 0.18938018381595612 and accuracy is 0.9419999718666077\n",
      "train loss is 0.25495150685310364 and accuracy is 0.9200000166893005\n",
      "val loss is 0.19006586074829102 and accuracy is 0.9350000023841858\n",
      "train loss is 0.24728810787200928 and accuracy is 0.9200000166893005\n",
      "val loss is 0.2206214964389801 and accuracy is 0.9200000166893005\n",
      "train loss is 0.28774401545524597 and accuracy is 0.8999999761581421\n",
      "val loss is 0.2194368839263916 and accuracy is 0.925000011920929\n",
      "train loss is 0.21654967963695526 and accuracy is 0.9150000214576721\n",
      "val loss is 0.21861164271831512 and accuracy is 0.9229999780654907\n",
      "train loss is 0.24936914443969727 and accuracy is 0.8949999809265137\n",
      "val loss is 0.19975300133228302 and accuracy is 0.9309999942779541\n",
      "train loss is 0.19748441874980927 and accuracy is 0.9399999976158142\n",
      "val loss is 0.18854913115501404 and accuracy is 0.9340000152587891\n",
      "train loss is 0.2553439736366272 and accuracy is 0.9049999713897705\n",
      "val loss is 0.20682525634765625 and accuracy is 0.9300000071525574\n",
      "train loss is 0.1818161904811859 and accuracy is 0.9350000023841858\n",
      "val loss is 0.23167480528354645 and accuracy is 0.9129999876022339\n",
      "train loss is 0.32066524028778076 and accuracy is 0.8550000190734863\n",
      "val loss is 0.17942851781845093 and accuracy is 0.9459999799728394\n",
      "train loss is 0.23557071387767792 and accuracy is 0.8949999809265137\n",
      "val loss is 0.20095615088939667 and accuracy is 0.9259999990463257\n",
      "train loss is 0.25123775005340576 and accuracy is 0.8999999761581421\n",
      "val loss is 0.21437358856201172 and accuracy is 0.9229999780654907\n",
      "train loss is 0.19080661237239838 and accuracy is 0.9300000071525574\n",
      "val loss is 0.20019328594207764 and accuracy is 0.9290000200271606\n",
      "train loss is 0.34223368763923645 and accuracy is 0.8849999904632568\n",
      "val loss is 0.21098212897777557 and accuracy is 0.9210000038146973\n",
      "train loss is 0.2346268892288208 and accuracy is 0.9300000071525574\n",
      "val loss is 0.20220714807510376 and accuracy is 0.9350000023841858\n",
      "train loss is 0.23906952142715454 and accuracy is 0.9150000214576721\n",
      "val loss is 0.19697313010692596 and accuracy is 0.9350000023841858\n",
      "train loss is 0.27381300926208496 and accuracy is 0.9100000262260437\n",
      "val loss is 0.2019730508327484 and accuracy is 0.9340000152587891\n",
      "train loss is 0.20322096347808838 and accuracy is 0.9350000023841858\n",
      "val loss is 0.2089409977197647 and accuracy is 0.9259999990463257\n",
      "train loss is 0.21303628385066986 and accuracy is 0.9049999713897705\n",
      "val loss is 0.1941470056772232 and accuracy is 0.9399999976158142\n"
     ]
    },
    {
     "name": "stdout",
     "output_type": "stream",
     "text": [
      "train loss is 0.1640481948852539 and accuracy is 0.9599999785423279\n",
      "val loss is 0.1869337111711502 and accuracy is 0.9309999942779541\n",
      "train loss is 0.24903862178325653 and accuracy is 0.8999999761581421\n",
      "val loss is 0.21253082156181335 and accuracy is 0.925000011920929\n",
      "train loss is 0.25466811656951904 and accuracy is 0.8999999761581421\n",
      "val loss is 0.17649689316749573 and accuracy is 0.9330000281333923\n",
      "train loss is 0.20119550824165344 and accuracy is 0.925000011920929\n",
      "val loss is 0.20443959534168243 and accuracy is 0.9319999814033508\n",
      "train loss is 0.24152854084968567 and accuracy is 0.9100000262260437\n",
      "val loss is 0.20960727334022522 and accuracy is 0.9240000247955322\n",
      "train loss is 0.22918587923049927 and accuracy is 0.9049999713897705\n",
      "val loss is 0.18426547944545746 and accuracy is 0.9279999732971191\n",
      "train loss is 0.27575287222862244 and accuracy is 0.8849999904632568\n",
      "val loss is 0.19866818189620972 and accuracy is 0.9309999942779541\n",
      "train loss is 0.23394745588302612 and accuracy is 0.9100000262260437\n",
      "val loss is 0.2046254575252533 and accuracy is 0.9259999990463257\n",
      "train loss is 0.17876680195331573 and accuracy is 0.9599999785423279\n",
      "val loss is 0.21231848001480103 and accuracy is 0.9259999990463257\n",
      "train loss is 0.25072264671325684 and accuracy is 0.9300000071525574\n",
      "val loss is 0.18573921918869019 and accuracy is 0.9419999718666077\n",
      "train loss is 0.2200436145067215 and accuracy is 0.925000011920929\n",
      "val loss is 0.17601272463798523 and accuracy is 0.9440000057220459\n",
      "train loss is 0.27922001481056213 and accuracy is 0.8849999904632568\n",
      "val loss is 0.18961146473884583 and accuracy is 0.9380000233650208\n",
      "train loss is 0.19524022936820984 and accuracy is 0.925000011920929\n",
      "val loss is 0.19570092856884003 and accuracy is 0.9300000071525574\n",
      "train loss is 0.21885274350643158 and accuracy is 0.9300000071525574\n",
      "val loss is 0.20896586775779724 and accuracy is 0.921999990940094\n",
      "train loss is 0.2191827893257141 and accuracy is 0.9150000214576721\n",
      "val loss is 0.1958773136138916 and accuracy is 0.9350000023841858\n",
      "train loss is 0.21495133638381958 and accuracy is 0.9350000023841858\n",
      "val loss is 0.1890256702899933 and accuracy is 0.9319999814033508\n",
      "train loss is 0.1933208703994751 and accuracy is 0.9300000071525574\n",
      "val loss is 0.19894079864025116 and accuracy is 0.9380000233650208\n",
      "train loss is 0.19029518961906433 and accuracy is 0.9150000214576721\n",
      "val loss is 0.1847521960735321 and accuracy is 0.9350000023841858\n",
      "train loss is 0.2303071767091751 and accuracy is 0.925000011920929\n",
      "val loss is 0.19825810194015503 and accuracy is 0.9359999895095825\n",
      "train loss is 0.17625011503696442 and accuracy is 0.9549999833106995\n",
      "val loss is 0.1781257539987564 and accuracy is 0.9470000267028809\n",
      "train loss is 0.20812112092971802 and accuracy is 0.9150000214576721\n",
      "val loss is 0.21103617548942566 and accuracy is 0.9200000166893005\n",
      "train loss is 0.22964294254779816 and accuracy is 0.9100000262260437\n",
      "val loss is 0.18563221395015717 and accuracy is 0.9340000152587891\n",
      "train loss is 0.24995332956314087 and accuracy is 0.8899999856948853\n",
      "val loss is 0.1828768253326416 and accuracy is 0.9399999976158142\n",
      "train loss is 0.18645264208316803 and accuracy is 0.9350000023841858\n",
      "val loss is 0.17538665235042572 and accuracy is 0.9419999718666077\n",
      "train loss is 0.168709859251976 and accuracy is 0.9350000023841858\n",
      "val loss is 0.17504167556762695 and accuracy is 0.9459999799728394\n",
      "train loss is 0.24390317499637604 and accuracy is 0.9100000262260437\n",
      "val loss is 0.18892531096935272 and accuracy is 0.9359999895095825\n",
      "train loss is 0.2819886803627014 and accuracy is 0.9049999713897705\n",
      "val loss is 0.19488194584846497 and accuracy is 0.9350000023841858\n",
      "train loss is 0.22406432032585144 and accuracy is 0.9100000262260437\n",
      "val loss is 0.2013041228055954 and accuracy is 0.9300000071525574\n",
      "train loss is 0.24337707459926605 and accuracy is 0.9049999713897705\n",
      "val loss is 0.18965019285678864 and accuracy is 0.9340000152587891\n",
      "train loss is 0.23301762342453003 and accuracy is 0.8999999761581421\n",
      "val loss is 0.19952461123466492 and accuracy is 0.9309999942779541\n",
      "train loss is 0.2755131423473358 and accuracy is 0.9150000214576721\n",
      "val loss is 0.19048753380775452 and accuracy is 0.9359999895095825\n",
      "train loss is 0.23035888373851776 and accuracy is 0.9150000214576721\n",
      "val loss is 0.22504714131355286 and accuracy is 0.921999990940094\n",
      "train loss is 0.211356520652771 and accuracy is 0.925000011920929\n",
      "val loss is 0.16842591762542725 and accuracy is 0.9409999847412109\n",
      "train loss is 0.22674120962619781 and accuracy is 0.8949999809265137\n",
      "val loss is 0.16484308242797852 and accuracy is 0.9449999928474426\n",
      "train loss is 0.2093697041273117 and accuracy is 0.9200000166893005\n",
      "val loss is 0.2014540582895279 and accuracy is 0.9290000200271606\n",
      "train loss is 0.20928186178207397 and accuracy is 0.9150000214576721\n",
      "val loss is 0.19671565294265747 and accuracy is 0.9319999814033508\n",
      "train loss is 0.2020079791545868 and accuracy is 0.9399999976158142\n",
      "val loss is 0.18110144138336182 and accuracy is 0.9309999942779541\n",
      "train loss is 0.24774500727653503 and accuracy is 0.8899999856948853\n",
      "val loss is 0.17877912521362305 and accuracy is 0.9419999718666077\n",
      "train loss is 0.15517762303352356 and accuracy is 0.9649999737739563\n",
      "val loss is 0.1869211196899414 and accuracy is 0.9359999895095825\n"
     ]
    },
    {
     "data": {
      "text/plain": [
       "<Channel at 0x7fc2aa408fd8>"
      ]
     },
     "execution_count": 103,
     "metadata": {},
     "output_type": "execute_result"
    }
   ],
   "source": [
    "batch_size = 100\n",
    "val_size = 500\n",
    "hist = {'train':[],'val':[]}\n",
    "hist_acc = {'train':[],'val':[]}\n",
    "for i in range(10000):\n",
    "    for phase in ['train','val']:\n",
    "        if phase == 'train':\n",
    "            step = [loss, accuracy, train_step]\n",
    "            first, second, expect = data.make_batch(batch_size, dat_type='train')\n",
    "            feed = {X1:first,X2:second,y:expect,is_training:True}\n",
    "        else:\n",
    "            step = [loss, accuracy, correct_pred]\n",
    "            first, second, expect = data.make_batch(val_size, dat_type='val')\n",
    "            feed = {X1:first,X2:second,y:expect,is_training:False}\n",
    "        current_loss, acc, _ = sess.run(step, feed_dict=feed)\n",
    "        hist[phase].append(current_loss)\n",
    "        hist_acc[phase].append(acc)\n",
    "        if i % 100 == 0:\n",
    "            print('{} loss is {} and accuracy is {}'.format(phase, current_loss, acc))\n",
    "\n",
    "saver = tf.train.Saver()\n",
    "path = saver.save(sess,'siamese_model/siamese')\n",
    "sound.play()"
   ]
  },
  {
   "cell_type": "code",
   "execution_count": 104,
   "metadata": {},
   "outputs": [
    {
     "data": {
      "image/png": "[encoded data removed]",
      "text/plain": [
       "<matplotlib.figure.Figure at 0x7fc25c69b898>"
      ]
     },
     "metadata": {},
     "output_type": "display_data"
    }
   ],
   "source": [
    "figs, axes = plt.subplots(1,2,figsize=(10,5))\n",
    "axes[0].plot(hist['train'])\n",
    "axes[0].plot(hist['val'])\n",
    "axes[0].set_title('train/val loss')\n",
    "axes[1].plot(hist_acc['train'])\n",
    "axes[1].plot(hist_acc['val'])\n",
    "axes[1].set_title('train/val acc')\n",
    "plt.show()"
   ]
  },
  {
   "cell_type": "code",
   "execution_count": 105,
   "metadata": {
    "collapsed": true
   },
   "outputs": [],
   "source": [
    "saver = tf.train.Saver()\n",
    "path = saver.save(sess,'siamese_model/siamese2')"
   ]
  },
  {
   "cell_type": "markdown",
   "metadata": {},
   "source": [
    "# Evaluation"
   ]
  },
  {
   "cell_type": "code",
   "execution_count": 108,
   "metadata": {},
   "outputs": [
    {
     "data": {
      "text/plain": [
       "0.8788"
      ]
     },
     "execution_count": 108,
     "metadata": {},
     "output_type": "execute_result"
    }
   ],
   "source": [
    "data.do_test_oneshot(sess, p,X1,X2,is_training,repeat=6)"
   ]
  }
 ],
 "metadata": {
  "kernelspec": {
   "display_name": "Python 3",
   "language": "python",
   "name": "python3"
  },
  "language_info": {
   "codemirror_mode": {
    "name": "ipython",
    "version": 3
   },
   "file_extension": ".py",
   "mimetype": "text/x-python",
   "name": "python",
   "nbconvert_exporter": "python",
   "pygments_lexer": "ipython3",
   "version": "3.6.1"
  }
 },
 "nbformat": 4,
 "nbformat_minor": 2
}
