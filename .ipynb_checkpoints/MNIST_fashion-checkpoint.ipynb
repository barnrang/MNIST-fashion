{
 "cells": [
  {
   "cell_type": "code",
   "execution_count": 2,
   "metadata": {
    "scrolled": true
   },
   "outputs": [],
   "source": [
    "from keras.datasets import fashion_mnist\n",
    "from keras.utils import np_utils\n",
    "from keras import callbacks as cb\n",
    "from keras.optimizers import Adam\n",
    "from keras.models import load_model"
   ]
  },
  {
   "cell_type": "code",
   "execution_count": 3,
   "metadata": {
    "collapsed": true
   },
   "outputs": [],
   "source": [
    "import numpy as np\n",
    "from PIL import Image\n",
    "import matplotlib.pyplot as plt\n",
    "import matplotlib.image as img\n",
    "import random\n",
    "%matplotlib inline"
   ]
  },
  {
   "cell_type": "code",
   "execution_count": 4,
   "metadata": {
    "collapsed": true
   },
   "outputs": [],
   "source": [
    "#自分のアラームを用意します\n",
    "import helper.load_music as ld\n",
    "import pygame\n",
    "songs = ld.music_load(dir='Music_sample',length=8000)\n",
    "song_test = songs[0].reshape(-1,2)\n",
    "pygame.mixer.init(44100,-16,2)\n",
    "sound = pygame.sndarray.make_sound(song_test)"
   ]
  },
  {
   "cell_type": "code",
   "execution_count": 5,
   "metadata": {
    "collapsed": true
   },
   "outputs": [],
   "source": [
    "label_data = {0:'T-shirt/top'\n",
    ",1:'Trouser'\n",
    ",2:'Pullover'\n",
    ",3:'Dress'\n",
    ",4:'Coat'\n",
    ",5:'Sandal'\n",
    ",6:'Shirt'\n",
    ",7:'Sneaker'\n",
    ",8:'Bag'\n",
    ",9:'Ankle boot'}"
   ]
  },
  {
   "cell_type": "code",
   "execution_count": 6,
   "metadata": {},
   "outputs": [
    {
     "data": {
      "text/plain": [
       "((55000, 28, 28, 1),\n",
       " (55000,),\n",
       " (5000, 28, 28, 1),\n",
       " (5000,),\n",
       " (10000, 28, 28, 1),\n",
       " (10000,))"
      ]
     },
     "execution_count": 6,
     "metadata": {},
     "output_type": "execute_result"
    }
   ],
   "source": [
    "#Import Data\n",
    "(x_train, y_train), (x_test, y_test) = fashion_mnist.load_data()\n",
    "x_train, x_test = np.expand_dims(x_train,3)/255., np.expand_dims(x_test,3)/255.\n",
    "x_val, y_val = x_train[-5000:], y_train[-5000:]\n",
    "x_train, y_train = x_train[:-5000], y_train[:-5000]\n",
    "x_train.shape, y_train.shape, x_val.shape, y_val.shape, x_test.shape, y_test.shape"
   ]
  },
  {
   "cell_type": "code",
   "execution_count": 7,
   "metadata": {
    "collapsed": true
   },
   "outputs": [],
   "source": [
    "from keras.layers import *\n",
    "from keras.models import Sequential\n",
    "from keras import regularizers as rg\n",
    "from keras.preprocessing.image import ImageDataGenerator"
   ]
  },
  {
   "cell_type": "markdown",
   "metadata": {},
   "source": [
    "# 参考\n",
    "- Random Erase\n",
    "https://arxiv.org/abs/1708.04896\n",
    "- 100%　消す確率は厳しすぎて25％に緩めておきます。"
   ]
  },
  {
   "cell_type": "code",
   "execution_count": 8,
   "metadata": {
    "collapsed": true
   },
   "outputs": [],
   "source": [
    "'''\n",
    "Random Erase, from 28x28 size we will randomly\n",
    "25% of chance to be erased\n",
    "set 0 for 4x4 - 6x6 area\n",
    "Input: 3-d tensor WxHxC(1)\n",
    "'''\n",
    "imsize = 28\n",
    "def random_erase(x):\n",
    "    prob = np.random.rand(1)[0]\n",
    "    out = x.copy()\n",
    "    if prob > 0.75:\n",
    "        width, height = np.random.randint(4,6,2)\n",
    "        wst, hst = random.randint(0,imsize-width),random.randint(0,imsize-height)\n",
    "        out[wst:wst+width, hst:hst+height] = 0\n",
    "    return out"
   ]
  },
  {
   "cell_type": "code",
   "execution_count": 9,
   "metadata": {
    "collapsed": true
   },
   "outputs": [],
   "source": [
    "transform = ImageDataGenerator(\n",
    "    featurewise_center = True,\n",
    "    featurewise_std_normalization = True,\n",
    "    horizontal_flip = True,\n",
    "    preprocessing_function = random_erase\n",
    ")\n",
    "\n",
    "val_trans = ImageDataGenerator(\n",
    "    featurewise_center = True,\n",
    "    featurewise_std_normalization = True\n",
    ")"
   ]
  },
  {
   "cell_type": "code",
   "execution_count": 17,
   "metadata": {
    "scrolled": true
   },
   "outputs": [
    {
     "data": {
      "text/plain": [
       "<matplotlib.image.AxesImage at 0x7f8374d60c88>"
      ]
     },
     "execution_count": 17,
     "metadata": {},
     "output_type": "execute_result"
    },
    {
     "data": {
      "image/png": "[encoded data removed]",
      "text/plain": [
       "<matplotlib.figure.Figure at 0x7f8374df98d0>"
      ]
     },
     "metadata": {},
     "output_type": "display_data"
    }
   ],
   "source": [
    "plt.imshow(random_erase(x_train[35][:,:,0]))"
   ]
  },
  {
   "cell_type": "code",
   "execution_count": 18,
   "metadata": {
    "collapsed": true
   },
   "outputs": [],
   "source": [
    "def show_image(im_data, label, sam_num):\n",
    "    plt.title(label_data[label[sam_num]])\n",
    "    plt.imshow(im_data[sam_num,:,:,0])"
   ]
  },
  {
   "cell_type": "code",
   "execution_count": 19,
   "metadata": {},
   "outputs": [
    {
     "data": {
      "image/png": "[encoded data removed]",
      "text/plain": [
       "<matplotlib.figure.Figure at 0x7f8374d9f160>"
      ]
     },
     "metadata": {},
     "output_type": "display_data"
    }
   ],
   "source": [
    "show_image(x_train, y_train, 251)"
   ]
  },
  {
   "cell_type": "markdown",
   "metadata": {},
   "source": [
    "# モデル\n",
    "データはそこまで複雑ではなくて、小さいモデルでも一応精度をとれると思います。\n",
    "試行錯誤で悪くない精度をとれて、操りやすいモデルは以下の通りです。"
   ]
  },
  {
   "cell_type": "code",
   "execution_count": 20,
   "metadata": {
    "collapsed": true
   },
   "outputs": [],
   "source": [
    "feature_layers = [\n",
    "    Conv2D(32,(2,2),padding='valid',activation='relu',input_shape=(28,28,1)),\n",
    "    BatchNormalization(),\n",
    "    MaxPooling2D(),\n",
    "    Conv2D(128,(2,2),padding='valid',activation='relu'),\n",
    "    BatchNormalization(),\n",
    "    MaxPooling2D(),\n",
    "    Flatten()\n",
    "]\n",
    "\n",
    "classify_layer = [\n",
    "    Dense(128,activation='relu'),\n",
    "    BatchNormalization(),\n",
    "    Dropout(0.5),\n",
    "    Dense(64,activation='relu'),\n",
    "    BatchNormalization(),\n",
    "    Dropout(0.25),\n",
    "    Dense(10,activation='softmax')\n",
    "]\n",
    "\n",
    "model = Sequential(feature_layers + classify_layer)"
   ]
  },
  {
   "cell_type": "code",
   "execution_count": 21,
   "metadata": {
    "collapsed": true
   },
   "outputs": [],
   "source": [
    "adam = Adam()\n",
    "model.compile(optimizer=adam,\n",
    "              loss='categorical_crossentropy',\n",
    "              metrics=['accuracy'])"
   ]
  },
  {
   "cell_type": "code",
   "execution_count": 26,
   "metadata": {
    "scrolled": false
   },
   "outputs": [
    {
     "name": "stdout",
     "output_type": "stream",
     "text": [
      "_________________________________________________________________\n",
      "Layer (type)                 Output Shape              Param #   \n",
      "=================================================================\n",
      "conv2d_1 (Conv2D)            (None, 27, 27, 32)        160       \n",
      "_________________________________________________________________\n",
      "batch_normalization_1 (Batch (None, 27, 27, 32)        128       \n",
      "_________________________________________________________________\n",
      "max_pooling2d_1 (MaxPooling2 (None, 13, 13, 32)        0         \n",
      "_________________________________________________________________\n",
      "conv2d_2 (Conv2D)            (None, 12, 12, 128)       16512     \n",
      "_________________________________________________________________\n",
      "batch_normalization_2 (Batch (None, 12, 12, 128)       512       \n",
      "_________________________________________________________________\n",
      "max_pooling2d_2 (MaxPooling2 (None, 6, 6, 128)         0         \n",
      "_________________________________________________________________\n",
      "flatten_1 (Flatten)          (None, 4608)              0         \n",
      "_________________________________________________________________\n",
      "dense_1 (Dense)              (None, 128)               589952    \n",
      "_________________________________________________________________\n",
      "batch_normalization_3 (Batch (None, 128)               512       \n",
      "_________________________________________________________________\n",
      "dropout_1 (Dropout)          (None, 128)               0         \n",
      "_________________________________________________________________\n",
      "dense_2 (Dense)              (None, 64)                8256      \n",
      "_________________________________________________________________\n",
      "batch_normalization_4 (Batch (None, 64)                256       \n",
      "_________________________________________________________________\n",
      "dropout_2 (Dropout)          (None, 64)                0         \n",
      "_________________________________________________________________\n",
      "dense_3 (Dense)              (None, 10)                650       \n",
      "=================================================================\n",
      "Total params: 616,938\n",
      "Trainable params: 616,234\n",
      "Non-trainable params: 704\n",
      "_________________________________________________________________\n"
     ]
    }
   ],
   "source": [
    "model.summary()"
   ]
  },
  {
   "cell_type": "code",
   "execution_count": 23,
   "metadata": {
    "collapsed": true
   },
   "outputs": [],
   "source": [
    "#Callback\n",
    "reduce_lr = cb.ReduceLROnPlateau(factor=0.4,patience=2)\n",
    "save_model = cb.ModelCheckpoint('model/fashion2', monitor='val_loss',save_best_only=True)\n",
    "early_break = cb.EarlyStopping(patience=7)"
   ]
  },
  {
   "cell_type": "markdown",
   "metadata": {},
   "source": [
    "# 正規化\n",
    "練習データをもとに平均と偏差を求めます。"
   ]
  },
  {
   "cell_type": "code",
   "execution_count": 34,
   "metadata": {
    "collapsed": true
   },
   "outputs": [],
   "source": [
    "transform.fit(x_train)\n",
    "val_trans.fit(x_train)"
   ]
  },
  {
   "cell_type": "code",
   "execution_count": 32,
   "metadata": {},
   "outputs": [
    {
     "name": "stdout",
     "output_type": "stream",
     "text": [
      "Epoch 1/50\n",
      "550/550 [==============================] - 31s 56ms/step - loss: 0.5693 - acc: 0.8045 - val_loss: 0.4094 - val_acc: 0.8582\n",
      "Epoch 2/50\n",
      "550/550 [==============================] - 19s 34ms/step - loss: 0.3788 - acc: 0.8682 - val_loss: 0.2789 - val_acc: 0.8968\n",
      "Epoch 3/50\n",
      "550/550 [==============================] - 19s 34ms/step - loss: 0.3212 - acc: 0.8888 - val_loss: 0.2462 - val_acc: 0.9096\n",
      "Epoch 4/50\n",
      "550/550 [==============================] - 19s 34ms/step - loss: 0.3005 - acc: 0.8929 - val_loss: 0.2464 - val_acc: 0.9100\n",
      "Epoch 5/50\n",
      "550/550 [==============================] - 19s 35ms/step - loss: 0.2790 - acc: 0.9008 - val_loss: 0.2605 - val_acc: 0.9042\n",
      "Epoch 6/50\n",
      "550/550 [==============================] - 19s 35ms/step - loss: 0.2604 - acc: 0.9085 - val_loss: 0.2330 - val_acc: 0.9128\n",
      "Epoch 7/50\n",
      "550/550 [==============================] - 19s 35ms/step - loss: 0.2509 - acc: 0.9104 - val_loss: 0.2281 - val_acc: 0.9194\n",
      "Epoch 8/50\n",
      "550/550 [==============================] - 19s 35ms/step - loss: 0.2370 - acc: 0.9158 - val_loss: 0.2221 - val_acc: 0.9194\n",
      "Epoch 9/50\n",
      "550/550 [==============================] - 19s 34ms/step - loss: 0.2256 - acc: 0.9216 - val_loss: 0.2332 - val_acc: 0.9158\n",
      "Epoch 10/50\n",
      "550/550 [==============================] - 19s 34ms/step - loss: 0.2213 - acc: 0.9223 - val_loss: 0.2185 - val_acc: 0.9200\n",
      "Epoch 11/50\n",
      "550/550 [==============================] - 19s 34ms/step - loss: 0.2110 - acc: 0.9253 - val_loss: 0.2193 - val_acc: 0.9206\n",
      "Epoch 12/50\n",
      "550/550 [==============================] - 19s 35ms/step - loss: 0.2027 - acc: 0.9279 - val_loss: 0.2275 - val_acc: 0.9176\n",
      "Epoch 13/50\n",
      "550/550 [==============================] - 19s 35ms/step - loss: 0.2003 - acc: 0.9291 - val_loss: 0.2154 - val_acc: 0.9212\n",
      "Epoch 14/50\n",
      "550/550 [==============================] - 19s 35ms/step - loss: 0.1894 - acc: 0.9332 - val_loss: 0.2206 - val_acc: 0.9198\n",
      "Epoch 15/50\n",
      "550/550 [==============================] - 19s 35ms/step - loss: 0.1889 - acc: 0.9330 - val_loss: 0.2120 - val_acc: 0.9258\n",
      "Epoch 16/50\n",
      "550/550 [==============================] - 19s 35ms/step - loss: 0.1790 - acc: 0.9353 - val_loss: 0.2172 - val_acc: 0.9222\n",
      "Epoch 17/50\n",
      "550/550 [==============================] - 19s 35ms/step - loss: 0.1741 - acc: 0.9376 - val_loss: 0.2018 - val_acc: 0.9274\n",
      "Epoch 18/50\n",
      "550/550 [==============================] - 19s 35ms/step - loss: 0.1722 - acc: 0.9387 - val_loss: 0.2269 - val_acc: 0.92400.1723 -\n",
      "Epoch 19/50\n",
      "550/550 [==============================] - 19s 35ms/step - loss: 0.1688 - acc: 0.9394 - val_loss: 0.2170 - val_acc: 0.9220\n",
      "Epoch 20/50\n",
      "550/550 [==============================] - 19s 35ms/step - loss: 0.1636 - acc: 0.9420 - val_loss: 0.1913 - val_acc: 0.9296\n",
      "Epoch 21/50\n",
      "550/550 [==============================] - 19s 35ms/step - loss: 0.1593 - acc: 0.9434 - val_loss: 0.2210 - val_acc: 0.9248\n",
      "Epoch 22/50\n",
      "550/550 [==============================] - 19s 34ms/step - loss: 0.1547 - acc: 0.9453 - val_loss: 0.2201 - val_acc: 0.9232\n",
      "Epoch 23/50\n",
      "550/550 [==============================] - 19s 34ms/step - loss: 0.1510 - acc: 0.9461 - val_loss: 0.2145 - val_acc: 0.9268\n",
      "Epoch 24/50\n",
      "550/550 [==============================] - 19s 34ms/step - loss: 0.1315 - acc: 0.9541 - val_loss: 0.1916 - val_acc: 0.9366\n",
      "Epoch 25/50\n",
      "550/550 [==============================] - 19s 34ms/step - loss: 0.1236 - acc: 0.9565 - val_loss: 0.2002 - val_acc: 0.9318\n",
      "Epoch 26/50\n",
      "550/550 [==============================] - 19s 34ms/step - loss: 0.1101 - acc: 0.9615 - val_loss: 0.1935 - val_acc: 0.9348\n",
      "Epoch 27/50\n",
      "550/550 [==============================] - 19s 34ms/step - loss: 0.1048 - acc: 0.9630 - val_loss: 0.1910 - val_acc: 0.9352\n",
      "Epoch 28/50\n",
      "550/550 [==============================] - 19s 34ms/step - loss: 0.1035 - acc: 0.9635 - val_loss: 0.2089 - val_acc: 0.9350\n",
      "Epoch 29/50\n",
      "550/550 [==============================] - 19s 34ms/step - loss: 0.0998 - acc: 0.9649 - val_loss: 0.2001 - val_acc: 0.9376\n",
      "Epoch 30/50\n",
      "550/550 [==============================] - 19s 34ms/step - loss: 0.0987 - acc: 0.9651 - val_loss: 0.2062 - val_acc: 0.9312\n",
      "Epoch 31/50\n",
      "550/550 [==============================] - 19s 35ms/step - loss: 0.0936 - acc: 0.9670 - val_loss: 0.1975 - val_acc: 0.9374\n",
      "Epoch 32/50\n",
      "550/550 [==============================] - 19s 34ms/step - loss: 0.0932 - acc: 0.9676 - val_loss: 0.2017 - val_acc: 0.9366\n",
      "Epoch 33/50\n",
      "550/550 [==============================] - 19s 34ms/step - loss: 0.0909 - acc: 0.9687 - val_loss: 0.1971 - val_acc: 0.9378\n",
      "Epoch 34/50\n",
      "550/550 [==============================] - 19s 34ms/step - loss: 0.0884 - acc: 0.9691 - val_loss: 0.1959 - val_acc: 0.9370\n"
     ]
    },
    {
     "data": {
      "text/plain": [
       "<Channel at 0x19b056c7120>"
      ]
     },
     "execution_count": 32,
     "metadata": {},
     "output_type": "execute_result"
    }
   ],
   "source": [
    "onehot = np_utils.to_categorical\n",
    "train = model.fit_generator(transform.flow(x_train, onehot(y_train), batch_size=100),epochs=50,\n",
    "                            validation_data=val_trans.flow(x_val, onehot(y_val)),callbacks=[reduce_lr,save_model,early_break])\n",
    "#Alarm\n",
    "sound.play()"
   ]
  },
  {
   "cell_type": "code",
   "execution_count": 33,
   "metadata": {
    "collapsed": true
   },
   "outputs": [],
   "source": [
    "sound.stop()"
   ]
  },
  {
   "cell_type": "code",
   "execution_count": 53,
   "metadata": {},
   "outputs": [
    {
     "data": {
      "image/png": "[encoded data removed]",
      "text/plain": [
       "<matplotlib.figure.Figure at 0x19b379bc1d0>"
      ]
     },
     "metadata": {},
     "output_type": "display_data"
    }
   ],
   "source": [
    "hist = train.history\n",
    "fig, axes = plt.subplots(1,2,figsize=(8,4))\n",
    "axes[0].plot(hist['loss'])\n",
    "axes[0].plot(hist['val_loss'])\n",
    "axes[0].set_title('train/val loss')\n",
    "axes[1].plot(hist['acc'])\n",
    "axes[1].plot(hist['val_acc'])\n",
    "axes[1].set_title('train/val acc')\n",
    "plt.show()"
   ]
  },
  {
   "cell_type": "markdown",
   "metadata": {},
   "source": [
    "# model Evaluation\n",
    "\n",
    "[test_loss, accuracy]"
   ]
  },
  {
   "cell_type": "code",
   "execution_count": 34,
   "metadata": {
    "scrolled": false
   },
   "outputs": [
    {
     "data": {
      "text/plain": [
       "[0.22239811734706164, 0.93320000000000003]"
      ]
     },
     "execution_count": 34,
     "metadata": {},
     "output_type": "execute_result"
    }
   ],
   "source": [
    "model.evaluate_generator(val_trans.flow(x_test, onehot(y_test)))"
   ]
  },
  {
   "cell_type": "markdown",
   "metadata": {},
   "source": [
    "# Display Result\n",
    "From the test data"
   ]
  },
  {
   "cell_type": "code",
   "execution_count": 28,
   "metadata": {},
   "outputs": [],
   "source": [
    "#Add number of the test data for each category\n",
    "tag_data = {i:[] for i in range(10)}\n",
    "for index,i in enumerate(y_test):\n",
    "    tag_data[i].append(index)"
   ]
  },
  {
   "cell_type": "code",
   "execution_count": 117,
   "metadata": {
    "scrolled": true
   },
   "outputs": [
    {
     "data": {
      "image/png": "[encoded data removed]",
      "text/plain": [
       "<matplotlib.figure.Figure at 0x7f833a349160>"
      ]
     },
     "metadata": {},
     "output_type": "display_data"
    }
   ],
   "source": [
    "onehot = np_utils.to_categorical\n",
    "to_show = np.zeros((10,28,28,1))\n",
    "for cls in range(10):\n",
    "    to_show[cls] = x_test[random.choice(tag_data[cls])]\n",
    "pred = np.argmax(model.predict_generator(val_trans.flow(to_show,shuffle=False)),axis=1)\n",
    "fig, axes = plt.subplots(2,5,figsize=(16,8))\n",
    "count = 0\n",
    "for row in axes:\n",
    "    for axe in row:\n",
    "        axe.imshow(to_show[count][:,:,0])\n",
    "        color = 'black' if pred[count] == count else 'r'\n",
    "        axe.set_title(label_data[pred[count]],color=color)\n",
    "        count += 1"
   ]
  }
 ],
 "metadata": {
  "kernelspec": {
   "display_name": "Python 3",
   "language": "python",
   "name": "python3"
  },
  "language_info": {
   "codemirror_mode": {
    "name": "ipython",
    "version": 3
   },
   "file_extension": ".py",
   "mimetype": "text/x-python",
   "name": "python",
   "nbconvert_exporter": "python",
   "pygments_lexer": "ipython3",
   "version": "3.6.1"
  }
 },
 "nbformat": 4,
 "nbformat_minor": 2
}
